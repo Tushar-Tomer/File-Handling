{
 "cells": [
  {
   "cell_type": "code",
   "execution_count": 10,
   "id": "c7371dc1",
   "metadata": {},
   "outputs": [
    {
     "data": {
      "text/plain": [
       "43"
      ]
     },
     "execution_count": 10,
     "metadata": {},
     "output_type": "execute_result"
    }
   ],
   "source": [
    "f=open(\"xyz.txt\",\"w\")\n",
    "f.write(\"a quick brown fox jumps over the lazy dogs.\")"
   ]
  },
  {
   "cell_type": "code",
   "execution_count": 11,
   "id": "4a72cb32",
   "metadata": {},
   "outputs": [
    {
     "data": {
      "text/plain": [
       "43"
      ]
     },
     "execution_count": 11,
     "metadata": {},
     "output_type": "execute_result"
    }
   ],
   "source": [
    "f.tell() "
   ]
  },
  {
   "cell_type": "code",
   "execution_count": 1,
   "id": "f228bbbb",
   "metadata": {},
   "outputs": [],
   "source": [
    "f=open(\"tushar.txt\",\"w\")\n",
    "f.write(\"Tushar Tomer is a very good boy.\")\n",
    "f.close()"
   ]
  },
  {
   "cell_type": "code",
   "execution_count": 4,
   "id": "ffce8c77",
   "metadata": {},
   "outputs": [
    {
     "name": "stdout",
     "output_type": "stream",
     "text": [
      "Tushar Tomer is a very good boy.\n"
     ]
    }
   ],
   "source": [
    "f=open(\"tushar.txt\",\"r\")\n",
    "print(f.read())\n",
    "f.close()"
   ]
  },
  {
   "cell_type": "code",
   "execution_count": 10,
   "id": "a3273218",
   "metadata": {},
   "outputs": [
    {
     "name": "stdout",
     "output_type": "stream",
     "text": [
      "Anything=Hello Tushar\n",
      "Write Successfully:\n"
     ]
    }
   ],
   "source": [
    "a=input(\"Anything=\")\n",
    "f=open(\"tushar1.txt\",\"w\")\n",
    "f.write(a)\n",
    "print(\"Write Successfully:\")\n",
    "f.close()"
   ]
  },
  {
   "cell_type": "code",
   "execution_count": 11,
   "id": "6a905c24",
   "metadata": {},
   "outputs": [
    {
     "name": "stdout",
     "output_type": "stream",
     "text": [
      "Hello Tushar\n"
     ]
    }
   ],
   "source": [
    "f=open(\"tushar1.txt\",\"r\")\n",
    "print(f.read())\n",
    "f.close()"
   ]
  },
  {
   "cell_type": "code",
   "execution_count": 12,
   "id": "f21c9044",
   "metadata": {},
   "outputs": [
    {
     "name": "stdout",
     "output_type": "stream",
     "text": [
      "Anything=Hii Tushar\n",
      "Write Successfully:\n"
     ]
    }
   ],
   "source": [
    "f=open(\"tushar2.txt\",\"w\")\n",
    "a=input(\"Anything=\")\n",
    "f.write(a)\n",
    "print(\"Write Successfully:\")\n",
    "f.close()"
   ]
  },
  {
   "cell_type": "code",
   "execution_count": 13,
   "id": "5d3e617b",
   "metadata": {},
   "outputs": [
    {
     "name": "stdout",
     "output_type": "stream",
     "text": [
      "Hii Tushar\n"
     ]
    }
   ],
   "source": [
    "f=open(\"tushar2.txt\",\"r\")\n",
    "print(f.read())\n",
    "f.close()"
   ]
  },
  {
   "cell_type": "code",
   "execution_count": 23,
   "id": "08bcc534",
   "metadata": {},
   "outputs": [],
   "source": [
    "f=open(\"code.txt\",\"w\")\n",
    "f.write(\"Tushar is a very intelligent boy\\n\")\n",
    "f.write(\"Hello Tushar\\n\")\n",
    "f.write(\"Tell me about your self\\n\")\n",
    "f.write(\"Tell me your hobby\\n\")\n",
    "f.close()"
   ]
  },
  {
   "cell_type": "code",
   "execution_count": 16,
   "id": "bec8c424",
   "metadata": {},
   "outputs": [
    {
     "name": "stdout",
     "output_type": "stream",
     "text": [
      "['Tushar is a very intelligent boy\\n', 'Hello Tushar\\n', 'Tell me about your self\\n', 'Tell me your hobby\\n']\n",
      "['Tushar is a very intelligent boy', 'Hello Tushar', 'Tell me about your self', 'Tell me your hobby']\n"
     ]
    }
   ],
   "source": [
    "a=[]\n",
    "f=open(\"code.txt\",\"r\")\n",
    "l=f.readlines()\n",
    "print(l)\n",
    "for i in l:\n",
    "    x=i.replace(\"\\n\",\"\")\n",
    "    a.append(x)\n",
    "print(a)"
   ]
  },
  {
   "cell_type": "markdown",
   "id": "ee2451f7",
   "metadata": {},
   "source": [
    "# Add .(dot) all the end of the line"
   ]
  },
  {
   "cell_type": "code",
   "execution_count": 19,
   "id": "cddc5260",
   "metadata": {},
   "outputs": [
    {
     "data": {
      "text/plain": [
       "0"
      ]
     },
     "execution_count": 19,
     "metadata": {},
     "output_type": "execute_result"
    }
   ],
   "source": [
    "f.seek(0)"
   ]
  },
  {
   "cell_type": "code",
   "execution_count": 30,
   "id": "244dbff2",
   "metadata": {},
   "outputs": [
    {
     "name": "stdout",
     "output_type": "stream",
     "text": [
      "['Tushar is a very intelligent boy\\n', 'Hello Tushar\\n', 'Tell me about your self\\n', 'Tell me your hobby\\n']\n",
      "['Tushar is a very intelligent boy.', 'Hello Tushar.', 'Tell me about your self.', 'Tell me your hobby.']\n"
     ]
    }
   ],
   "source": [
    "p=[]\n",
    "f=open(\"code.txt\",\"r+\")\n",
    "l=f.readlines()\n",
    "print(l)\n",
    "for i in l:\n",
    "    a=i.replace(\"\\n\",\".\")\n",
    "    p.append(a)\n",
    "print(p)\n",
    "x=p\n",
    "for j in x:\n",
    "     f.write(j+\"\\n\")\n",
    "f.close()\n",
    "# a=f.readline()\n",
    "# f.write(a+\".\")"
   ]
  },
  {
   "cell_type": "code",
   "execution_count": 31,
   "id": "a5e4439b",
   "metadata": {},
   "outputs": [
    {
     "ename": "UnsupportedOperation",
     "evalue": "not readable",
     "output_type": "error",
     "traceback": [
      "\u001b[1;31m---------------------------------------------------------------------------\u001b[0m",
      "\u001b[1;31mUnsupportedOperation\u001b[0m                      Traceback (most recent call last)",
      "Input \u001b[1;32mIn [31]\u001b[0m, in \u001b[0;36m<cell line: 3>\u001b[1;34m()\u001b[0m\n\u001b[0;32m      1\u001b[0m p\u001b[38;5;241m=\u001b[39m[]\n\u001b[0;32m      2\u001b[0m f\u001b[38;5;241m=\u001b[39m\u001b[38;5;28mopen\u001b[39m(\u001b[38;5;124m\"\u001b[39m\u001b[38;5;124mdot.txt\u001b[39m\u001b[38;5;124m\"\u001b[39m,\u001b[38;5;124m\"\u001b[39m\u001b[38;5;124ma\u001b[39m\u001b[38;5;124m\"\u001b[39m)\n\u001b[1;32m----> 3\u001b[0m \u001b[38;5;28;01mfor\u001b[39;00m i \u001b[38;5;129;01min\u001b[39;00m f:\n\u001b[0;32m      4\u001b[0m     a\u001b[38;5;241m=\u001b[39mi\u001b[38;5;241m.\u001b[39mreplace(\u001b[38;5;124m\"\u001b[39m\u001b[38;5;130;01m\\n\u001b[39;00m\u001b[38;5;124m\"\u001b[39m,\u001b[38;5;124m\"\u001b[39m\u001b[38;5;124m.\u001b[39m\u001b[38;5;124m\"\u001b[39m)\n\u001b[0;32m      5\u001b[0m     p\u001b[38;5;241m.\u001b[39mappend(a)\n",
      "\u001b[1;31mUnsupportedOperation\u001b[0m: not readable"
     ]
    }
   ],
   "source": [
    "p=[]\n",
    "f=open(\"dot.txt\",\"a\")\n",
    "for i in f:\n",
    "    a=i.replace(\"\\n\",\".\")\n",
    "    p.append(a)\n",
    "print(p)"
   ]
  },
  {
   "cell_type": "code",
   "execution_count": 5,
   "id": "efb02b22",
   "metadata": {},
   "outputs": [
    {
     "name": "stdout",
     "output_type": "stream",
     "text": [
      "Tushar is a very intelligent boy.\n",
      "Hello Tushar.\n",
      "Tell me about your self.\n",
      "Tell me your hobby.\n",
      "\n"
     ]
    }
   ],
   "source": [
    "f=open(\"code.txt\",\"r\")\n",
    "a=f.read()\n",
    "print(a)\n",
    "f.close()"
   ]
  },
  {
   "cell_type": "code",
   "execution_count": 8,
   "id": "c4601022",
   "metadata": {},
   "outputs": [
    {
     "name": "stdout",
     "output_type": "stream",
     "text": [
      "Tushar is a very intelligent boy.\n",
      "\n",
      "Hello Tushar.\n",
      "\n"
     ]
    }
   ],
   "source": [
    "f=open(\"code.txt\",\"r\")\n",
    "print(f.readline())\n",
    "print(f.readline())\n",
    "f.close()"
   ]
  },
  {
   "cell_type": "code",
   "execution_count": 12,
   "id": "f6a3a85e",
   "metadata": {},
   "outputs": [
    {
     "name": "stdout",
     "output_type": "stream",
     "text": [
      "['Tushar is a very intelligent boy.\\n', 'Hello Tushar.\\n', 'Tell me about your self.\\n', 'Tell me your hobby.\\n']\n"
     ]
    }
   ],
   "source": [
    "f=open(\"code.txt\",\"r\")\n",
    "print(f.readlines())\n",
    "# f.close()"
   ]
  },
  {
   "cell_type": "code",
   "execution_count": 13,
   "id": "ca8a047d",
   "metadata": {},
   "outputs": [
    {
     "data": {
      "text/plain": [
       "97"
      ]
     },
     "execution_count": 13,
     "metadata": {},
     "output_type": "execute_result"
    }
   ],
   "source": [
    "f.tell()"
   ]
  },
  {
   "cell_type": "code",
   "execution_count": 2,
   "id": "f62c43a9",
   "metadata": {},
   "outputs": [],
   "source": [
    "f=open(\"abc.txt\",\"w\")\n",
    "f.write(\"a quick brown fox jumps over the lazy dogs.\")\n",
    "f.close()"
   ]
  },
  {
   "cell_type": "code",
   "execution_count": 13,
   "id": "4149f558",
   "metadata": {},
   "outputs": [
    {
     "name": "stdout",
     "output_type": "stream",
     "text": [
      "43\n"
     ]
    }
   ],
   "source": [
    "f=open(\"abc1.txt\",\"w\")\n",
    "z=f.write(\"a quick brown fox jumps over the lazy dogs.\")\n",
    "print(z)\n",
    "f.close()"
   ]
  },
  {
   "cell_type": "code",
   "execution_count": 22,
   "id": "8a20f8ef",
   "metadata": {},
   "outputs": [
    {
     "name": "stdout",
     "output_type": "stream",
     "text": [
      "43\n"
     ]
    }
   ],
   "source": [
    "f=open(\"abc2.txt\",\"w\")\n",
    "z=f.write(\"a quick brown fox jumps over the lazy dogs.\")\n",
    "f.write(\"a quick brown fox jumps over the lazy dogs.\")\n",
    "\n",
    "print(z)\n",
    "f.close()"
   ]
  },
  {
   "cell_type": "code",
   "execution_count": 23,
   "id": "4cb3d2a7",
   "metadata": {},
   "outputs": [
    {
     "name": "stdout",
     "output_type": "stream",
     "text": [
      "File Name: pqr.txt\n",
      "File Mode: w\n",
      "Is File Readable: False\n",
      "Is File writable: True\n",
      "Is File Close: False\n",
      "Is File Close: True\n"
     ]
    }
   ],
   "source": [
    "f=open(\"pqr.txt\",\"w\")\n",
    "print(\"File Name:\",f.name)\n",
    "print(\"File Mode:\",f.mode)\n",
    "print(\"Is File Readable:\",f.readable())\n",
    "print(\"Is File writable:\",f.writable())\n",
    "print(\"Is File Close:\",f.closed)\n",
    "f.close()\n",
    "print(\"Is File Close:\",f.closed)"
   ]
  },
  {
   "cell_type": "code",
   "execution_count": 35,
   "id": "5f896077",
   "metadata": {},
   "outputs": [
    {
     "name": "stdout",
     "output_type": "stream",
     "text": [
      "Data Written into the file Successfully\n"
     ]
    }
   ],
   "source": [
    "f=open(\"pqr1.txt\",\"w\")\n",
    "f.write(\"Welcome\\n\")\n",
    "f.write(\"TO\\n\")\n",
    "f.write(\"Software\\n\")\n",
    "print(\"Data Written into the file Successfully\")\n",
    "f.close()"
   ]
  },
  {
   "cell_type": "code",
   "execution_count": 36,
   "id": "9b544bc4",
   "metadata": {},
   "outputs": [
    {
     "name": "stdout",
     "output_type": "stream",
     "text": [
      "Welcome\n",
      "TO\n",
      "Software\n",
      "\n"
     ]
    }
   ],
   "source": [
    "f=open(\"pqr1.txt\",\"r\")\n",
    "print(f.read())\n",
    "f.close()"
   ]
  },
  {
   "cell_type": "code",
   "execution_count": 32,
   "id": "a72b7e16",
   "metadata": {},
   "outputs": [
    {
     "name": "stdout",
     "output_type": "stream",
     "text": [
      "Written Successfully:\n"
     ]
    }
   ],
   "source": [
    "f=open(\"ADD.txt\",\"w\")\n",
    "a=2\n",
    "b=2\n",
    "c=a+b\n",
    "f.write(str(c))\n",
    "print(\"Written Successfully:\")\n",
    "f.close()"
   ]
  },
  {
   "cell_type": "code",
   "execution_count": 30,
   "id": "ba9e2c87",
   "metadata": {},
   "outputs": [
    {
     "name": "stdout",
     "output_type": "stream",
     "text": [
      "Enter Any No.=10\n"
     ]
    }
   ],
   "source": [
    "f=open(\"Factorial.txt\",\"w\")\n",
    "n=int(input(\"Enter Any No.=\"))\n",
    "x=1\n",
    "for i in range(1,n+1):\n",
    "    x=x*i\n",
    "f.write('Factorial:')\n",
    "f.write(str(x))\n",
    "f.close()"
   ]
  },
  {
   "cell_type": "code",
   "execution_count": 31,
   "id": "2636cecb",
   "metadata": {},
   "outputs": [
    {
     "name": "stdout",
     "output_type": "stream",
     "text": [
      "Factorial:3628800\n"
     ]
    }
   ],
   "source": [
    "f=open(\"Factorial.txt\",\"r\")\n",
    "print(f.read())\n",
    "f.close()"
   ]
  },
  {
   "cell_type": "code",
   "execution_count": 33,
   "id": "abcee2bb",
   "metadata": {},
   "outputs": [
    {
     "name": "stdout",
     "output_type": "stream",
     "text": [
      "Welcome\n",
      "TO\n",
      "Software\n",
      "\n"
     ]
    }
   ],
   "source": [
    "# Read Function\n",
    "f=open(\"pqr1.txt\",\"r\")\n",
    "print(f.read())\n",
    "f.close()"
   ]
  },
  {
   "cell_type": "code",
   "execution_count": 34,
   "id": "2a25ef46",
   "metadata": {},
   "outputs": [
    {
     "name": "stdout",
     "output_type": "stream",
     "text": [
      "Welcome\n",
      "TO\n",
      "Software\n",
      "\n"
     ]
    }
   ],
   "source": [
    "f=open(\"pqr1.txt\",\"r\")\n",
    "a=f.read()\n",
    "print(a)\n",
    "f.close()"
   ]
  },
  {
   "cell_type": "code",
   "execution_count": 1,
   "id": "9c11f7c7",
   "metadata": {},
   "outputs": [
    {
     "name": "stdout",
     "output_type": "stream",
     "text": [
      "Welco\n"
     ]
    }
   ],
   "source": [
    "f=open(\"pqr1.txt\",\"r\")\n",
    "a=f.read(5)\n",
    "print(a)\n",
    "f.close()"
   ]
  },
  {
   "cell_type": "code",
   "execution_count": 23,
   "id": "f1e7edf9",
   "metadata": {},
   "outputs": [],
   "source": [
    "f=open(\"tttt.txt\",\"w\")\n",
    "f.write(\"Hello\\n\")\n",
    "f.write(\"Tushar\\n\")\n",
    "f.write(\"How are you\\n\")\n",
    "f.close()"
   ]
  },
  {
   "cell_type": "code",
   "execution_count": 24,
   "id": "77f93090",
   "metadata": {},
   "outputs": [
    {
     "name": "stdout",
     "output_type": "stream",
     "text": [
      "Hello\n",
      "\n"
     ]
    }
   ],
   "source": [
    "f=open(\"tttt.txt\",\"r\")\n",
    "print(f.readline())"
   ]
  },
  {
   "cell_type": "code",
   "execution_count": 25,
   "id": "06c8ecc3",
   "metadata": {},
   "outputs": [
    {
     "data": {
      "text/plain": [
       "7"
      ]
     },
     "execution_count": 25,
     "metadata": {},
     "output_type": "execute_result"
    }
   ],
   "source": [
    "f.tell()"
   ]
  },
  {
   "cell_type": "code",
   "execution_count": null,
   "id": "0229047d",
   "metadata": {},
   "outputs": [],
   "source": []
  },
  {
   "cell_type": "code",
   "execution_count": null,
   "id": "0999c899",
   "metadata": {},
   "outputs": [],
   "source": [
    "# 1.Read= Read function read all the content and print same content.\n",
    "# 2.Readline= Readline function real single line at a time. If we write two or more time write readline then cursor move autometically to the next line and print next line not previous line. If all the content are print and we write again readline function then answer print is empty.\n",
    "# 3.Readlines= Readlines function read all the content and print all the content in list.\n",
    "# 4.seek()\n",
    "# 5.tell()"
   ]
  },
  {
   "cell_type": "code",
   "execution_count": 49,
   "id": "10fa74ab",
   "metadata": {},
   "outputs": [],
   "source": [
    "# Example of Read Function\n",
    "f=open(\"Read.txt\",\"w\")\n",
    "f.write(\"Welcome\\n\")\n",
    "f.write(\"TO\\n\")\n",
    "f.write(\"Software\\n\")\n",
    "f.close()"
   ]
  },
  {
   "cell_type": "code",
   "execution_count": 50,
   "id": "e106d84e",
   "metadata": {},
   "outputs": [
    {
     "name": "stdout",
     "output_type": "stream",
     "text": [
      "Welcome\n",
      "TO\n",
      "Software\n",
      "\n"
     ]
    }
   ],
   "source": [
    "f=open(\"Read.txt\",\"r\")\n",
    "print(f.read())\n",
    "f.close()"
   ]
  },
  {
   "cell_type": "code",
   "execution_count": 42,
   "id": "e4333ecf",
   "metadata": {},
   "outputs": [],
   "source": [
    "# Example of Readline Function\n",
    "f=open(\"Readline.txt\",\"w\")\n",
    "f.write(\"Welcome\\n\")\n",
    "f.write(\"TO\\n\")\n",
    "f.write(\"Software\\n\")\n",
    "f.close()"
   ]
  },
  {
   "cell_type": "code",
   "execution_count": 48,
   "id": "2a417db0",
   "metadata": {},
   "outputs": [
    {
     "name": "stdout",
     "output_type": "stream",
     "text": [
      "Welcome\n",
      "\n",
      "TO\n",
      "\n"
     ]
    }
   ],
   "source": [
    "f=open(\"Readline.txt\",\"r\")\n",
    "print(f.readline())\n",
    "print(f.readline())\n",
    "f.close()"
   ]
  },
  {
   "cell_type": "code",
   "execution_count": 47,
   "id": "eb64645a",
   "metadata": {},
   "outputs": [
    {
     "name": "stdout",
     "output_type": "stream",
     "text": [
      "Welcome\n",
      "\n",
      "TO\n",
      "\n",
      "Software\n",
      "\n"
     ]
    }
   ],
   "source": [
    "f=open(\"Readline.txt\",\"r\")\n",
    "print(f.readline())\n",
    "print(f.readline())\n",
    "print(f.readline())\n",
    "f.close()"
   ]
  },
  {
   "cell_type": "code",
   "execution_count": 61,
   "id": "646f0c54",
   "metadata": {},
   "outputs": [],
   "source": [
    "# Readlines Function \n",
    "f=open(\"Readlines.txt\",\"w\")\n",
    "f.write(\"Welcome\\n\")\n",
    "f.write(\"TO\\n\")\n",
    "f.write(\"Software\\n\")\n",
    "f.write(\"Field\")\n",
    "f.close()"
   ]
  },
  {
   "cell_type": "code",
   "execution_count": 62,
   "id": "1d786886",
   "metadata": {},
   "outputs": [
    {
     "name": "stdout",
     "output_type": "stream",
     "text": [
      "['Welcome\\n', 'TO\\n', 'Software\\n', 'Field']\n"
     ]
    }
   ],
   "source": [
    "f=open(\"Readlines.txt\",\"r\")\n",
    "print(f.readlines())\n",
    "f.close()"
   ]
  },
  {
   "cell_type": "code",
   "execution_count": 2,
   "id": "a0747eef",
   "metadata": {},
   "outputs": [
    {
     "name": "stdout",
     "output_type": "stream",
     "text": [
      "Welcome\n",
      "\n",
      "TO\n",
      "\n",
      "Software\n",
      "\n",
      "Field\n"
     ]
    }
   ],
   "source": [
    "f=open(\"Readlines.txt\",\"r\")\n",
    "for i in f:\n",
    "    print(i)\n",
    "    "
   ]
  },
  {
   "cell_type": "code",
   "execution_count": 51,
   "id": "8b731ddb",
   "metadata": {},
   "outputs": [
    {
     "name": "stdout",
     "output_type": "stream",
     "text": [
      "['Welcome\\n', 'TO\\n', 'Software\\n']\n"
     ]
    }
   ],
   "source": [
    "f=open(\"pqr1.txt\",\"r\")\n",
    "print(f.readlines())\n",
    "f.close()"
   ]
  },
  {
   "cell_type": "code",
   "execution_count": 4,
   "id": "b5db1f95",
   "metadata": {},
   "outputs": [
    {
     "name": "stdout",
     "output_type": "stream",
     "text": [
      "Welcome\n",
      "\n"
     ]
    }
   ],
   "source": [
    "f=open(\"pqr1.txt\",\"r\")\n",
    "print(f.readline())\n",
    "f.close()"
   ]
  },
  {
   "cell_type": "code",
   "execution_count": 5,
   "id": "ec2b88bc",
   "metadata": {},
   "outputs": [
    {
     "name": "stdout",
     "output_type": "stream",
     "text": [
      "Welcome\n",
      "\n",
      "TO\n",
      "\n",
      "Software\n",
      "\n"
     ]
    }
   ],
   "source": [
    "f=open(\"pqr1.txt\",\"r\")\n",
    "print(f.readline())\n",
    "print(f.readline())\n",
    "print(f.readline())\n",
    "f.close()"
   ]
  },
  {
   "cell_type": "code",
   "execution_count": 64,
   "id": "74cb3a10",
   "metadata": {},
   "outputs": [],
   "source": [
    "f=open(\"Read No.txt\",\"w\")\n",
    "f.write(\"Welcome\\n\")\n",
    "f.write(\"TO\\n\")\n",
    "f.write(\"Software\\n\")\n",
    "f.write(\"Field\")\n",
    "f.close()"
   ]
  },
  {
   "cell_type": "code",
   "execution_count": 65,
   "id": "dd3dff85",
   "metadata": {},
   "outputs": [
    {
     "name": "stdout",
     "output_type": "stream",
     "text": [
      "Welc\n"
     ]
    }
   ],
   "source": [
    "f=open(\"Read No.txt\",\"r\")\n",
    "print(f.read(4))\n",
    "f.close()"
   ]
  },
  {
   "cell_type": "code",
   "execution_count": 66,
   "id": "8cc6b9ee",
   "metadata": {},
   "outputs": [
    {
     "name": "stdout",
     "output_type": "stream",
     "text": [
      "We\n",
      "lc\n"
     ]
    }
   ],
   "source": [
    "f=open(\"Read No.txt\",\"r\")\n",
    "print(f.readline(2))\n",
    "print(f.readline(2))\n",
    "f.close()"
   ]
  },
  {
   "cell_type": "code",
   "execution_count": 17,
   "id": "63e4ba97",
   "metadata": {},
   "outputs": [
    {
     "name": "stdout",
     "output_type": "stream",
     "text": [
      "Hii student..\n",
      "hope u all r doing good..!!\n",
      "We are studing file handling\\n.\n",
      "Python is intresting\\n\n",
      "Python is coding\n"
     ]
    }
   ],
   "source": [
    "f=open(\"Untitled.txt\",\"r\")\n",
    "print(f.read())\n",
    "f.close()"
   ]
  },
  {
   "cell_type": "code",
   "execution_count": 23,
   "id": "32332db7",
   "metadata": {},
   "outputs": [
    {
     "name": "stdout",
     "output_type": "stream",
     "text": [
      "Hii student..\n",
      "hope u all r doing good..!!\n",
      "We are studing file handling\\n.\n",
      "Python is intresting\\n\n",
      "Python is coding\n"
     ]
    }
   ],
   "source": [
    "f=open(\"Untitled.txt\",\"r\")\n",
    "print(f.read())"
   ]
  },
  {
   "cell_type": "code",
   "execution_count": 24,
   "id": "3e8feb8b",
   "metadata": {},
   "outputs": [
    {
     "data": {
      "text/plain": [
       "113"
      ]
     },
     "execution_count": 24,
     "metadata": {},
     "output_type": "execute_result"
    }
   ],
   "source": [
    "f.tell()"
   ]
  },
  {
   "cell_type": "code",
   "execution_count": 98,
   "id": "90bc54c1",
   "metadata": {},
   "outputs": [
    {
     "data": {
      "text/plain": [
       "0"
      ]
     },
     "execution_count": 98,
     "metadata": {},
     "output_type": "execute_result"
    }
   ],
   "source": [
    "f.seek(0)"
   ]
  },
  {
   "cell_type": "code",
   "execution_count": 32,
   "id": "53193bb4",
   "metadata": {},
   "outputs": [
    {
     "name": "stdout",
     "output_type": "stream",
     "text": [
      "['Hii student..\\\\n\\n', 'hope u all r doing good..!!\\n', 'We are studing file handling\\\\n.\\n', 'Python is intresting\\\\n\\n', 'Python is coding']\n",
      "['Hii student..\\\\n', 'hope u all r doing good..!!', 'We are studing file handling\\\\n.', 'Python is intresting\\\\n', 'Python is coding']\n"
     ]
    }
   ],
   "source": [
    "x=[]\n",
    "f=open(\"Untitled.txt\",\"r\")\n",
    "l=f.readlines()\n",
    "print(l)\n",
    "for i in l:\n",
    "    y=i.replace(\"\\n\",\"\")\n",
    "    x.append(y)\n",
    "print(x)\n",
    "    "
   ]
  },
  {
   "cell_type": "code",
   "execution_count": null,
   "id": "f881d71b",
   "metadata": {},
   "outputs": [],
   "source": [
    "# Write a program to display the frequency of each word in the file"
   ]
  },
  {
   "cell_type": "code",
   "execution_count": 103,
   "id": "9656023e",
   "metadata": {},
   "outputs": [
    {
     "name": "stdout",
     "output_type": "stream",
     "text": [
      "['Hii', 'student..\\\\n', 'hope', 'u', 'all', 'r', 'doing', 'good..!!', 'We', 'are', 'studing', 'file', 'handling\\\\n.', 'Python', 'is', 'intresting\\\\n', 'Python', 'is', 'coding']\n",
      "1\n",
      "1\n",
      "1\n",
      "1\n",
      "1\n",
      "1\n",
      "1\n",
      "1\n",
      "1\n",
      "1\n",
      "1\n",
      "1\n",
      "1\n",
      "2\n",
      "2\n",
      "1\n",
      "2\n",
      "2\n",
      "1\n"
     ]
    }
   ],
   "source": [
    "a=[]\n",
    "f=open(\"Untitled.txt\",\"r\")\n",
    "l=f.readlines()\n",
    "for i in l:\n",
    "    b=i.split()\n",
    "    a.extend(b)\n",
    "#     for j in b:\n",
    "#         x=b.count(j)\n",
    "#         print(b,\"is\",x,\"times\")\n",
    "print(a)\n",
    "for j in a:\n",
    "    x=a.count(j)\n",
    "    print(x)"
   ]
  },
  {
   "cell_type": "code",
   "execution_count": 122,
   "id": "bb66d83a",
   "metadata": {},
   "outputs": [
    {
     "name": "stdout",
     "output_type": "stream",
     "text": [
      "['Hii', 'student..\\\\n', 'hope', 'u', 'all', 'r', 'doing', 'good..!!', 'We', 'are', 'studing', 'file', 'handling\\\\n.', 'Python', 'is', 'intresting\\\\n', 'Python', 'is', 'coding']\n",
      "{'Hii': 1, 'student..\\\\n': 1, 'hope': 1, 'u': 1, 'all': 1, 'r': 1, 'doing': 1, 'good..!!': 1, 'We': 1, 'are': 1, 'studing': 1, 'file': 1, 'handling\\\\n.': 1, 'Python': 2, 'is': 2, 'intresting\\\\n': 1, 'coding': 1}\n"
     ]
    }
   ],
   "source": [
    "a=[]\n",
    "f=open(\"Untitled.txt\",\"r\")\n",
    "l=f.readlines()\n",
    "for i in l:\n",
    "    b=i.split()\n",
    "    a.extend(b)\n",
    "print(a)\n",
    "z={j:a.count(k) for j,k in zip(a,a)}\n",
    "print(z)"
   ]
  },
  {
   "cell_type": "code",
   "execution_count": 104,
   "id": "7e41793b",
   "metadata": {},
   "outputs": [
    {
     "data": {
      "text/plain": [
       "0"
      ]
     },
     "execution_count": 104,
     "metadata": {},
     "output_type": "execute_result"
    }
   ],
   "source": [
    "f.seek(0)"
   ]
  },
  {
   "cell_type": "code",
   "execution_count": 111,
   "id": "911f0d6a",
   "metadata": {},
   "outputs": [
    {
     "data": {
      "text/plain": [
       "0"
      ]
     },
     "execution_count": 111,
     "metadata": {},
     "output_type": "execute_result"
    }
   ],
   "source": [
    "f.seek(0)"
   ]
  },
  {
   "cell_type": "code",
   "execution_count": 30,
   "id": "a0a2dc21",
   "metadata": {},
   "outputs": [
    {
     "name": "stdout",
     "output_type": "stream",
     "text": [
      "['Hii', 'student..\\\\n\\nhope', 'u', 'all', 'r', 'doing', 'good..!!\\nWe', 'are', 'studing', 'file', 'handling\\\\n.\\nPython', 'is', 'intresting\\\\n\\nPython', 'is', 'coding']\n",
      "Counter({'is': 2, 'Hii': 1, 'student..\\\\n\\nhope': 1, 'u': 1, 'all': 1, 'r': 1, 'doing': 1, 'good..!!\\nWe': 1, 'are': 1, 'studing': 1, 'file': 1, 'handling\\\\n.\\nPython': 1, 'intresting\\\\n\\nPython': 1, 'coding': 1})\n",
      "2\n"
     ]
    }
   ],
   "source": [
    "f=open(\"Untitled.txt\",\"r\")\n",
    "l=f.read()\n",
    "x=(l.split(\" \"))\n",
    "print(x)\n",
    "from collections import Counter\n",
    "a=Counter(x)\n",
    "print(a)\n",
    "print(max(a.values()))"
   ]
  },
  {
   "cell_type": "code",
   "execution_count": 22,
   "id": "6b5d70ab",
   "metadata": {},
   "outputs": [
    {
     "data": {
      "text/plain": [
       "0"
      ]
     },
     "execution_count": 22,
     "metadata": {},
     "output_type": "execute_result"
    }
   ],
   "source": [
    "f.seek(0)"
   ]
  },
  {
   "cell_type": "code",
   "execution_count": 31,
   "id": "31a1f026",
   "metadata": {},
   "outputs": [
    {
     "name": "stdout",
     "output_type": "stream",
     "text": [
      "Hii student.. \n",
      "hope u all r doing good..!! \n",
      "We are studing file handling. \n",
      "Python is intresting \n",
      "Python is coding\n"
     ]
    }
   ],
   "source": [
    "d=[]\n",
    "f=open(\"Untitled.txt\",\"r\")\n",
    "l=f.readlines()\n",
    "# print(l)\n",
    "for i in l:\n",
    "    x=i.replace(\"\\n\",\" \")\n",
    "    z=d.append(x)\n",
    "    print(x)\n",
    "# print(type(x))\n",
    "# y=x.split(\" \")\n",
    "# print(y)"
   ]
  },
  {
   "cell_type": "code",
   "execution_count": null,
   "id": "07196af3",
   "metadata": {},
   "outputs": [],
   "source": [
    "# Write a program to count a no. of lines in the file"
   ]
  },
  {
   "cell_type": "code",
   "execution_count": 33,
   "id": "490a7e86",
   "metadata": {},
   "outputs": [
    {
     "name": "stdout",
     "output_type": "stream",
     "text": [
      "Hii student..\n",
      "\n",
      "hope u all r doing good..!!\n",
      "\n",
      "We are studing file handling.\n",
      "\n",
      "Python is intresting\n",
      "\n",
      "Python is coding\n",
      "5\n"
     ]
    }
   ],
   "source": [
    "c=0\n",
    "f=open(\"Untitled.txt\",\"r\")\n",
    "for i in f:\n",
    "    print(i)\n",
    "    c=c+1\n",
    "print(c)\n",
    "    "
   ]
  },
  {
   "cell_type": "code",
   "execution_count": null,
   "id": "828644ea",
   "metadata": {},
   "outputs": [],
   "source": []
  },
  {
   "cell_type": "code",
   "execution_count": null,
   "id": "ff0d7453",
   "metadata": {},
   "outputs": [],
   "source": []
  },
  {
   "cell_type": "code",
   "execution_count": null,
   "id": "b098e19e",
   "metadata": {},
   "outputs": [],
   "source": [
    "# Write a program to read the content of that line no.  which has been enter by a user"
   ]
  },
  {
   "cell_type": "code",
   "execution_count": 34,
   "id": "83766938",
   "metadata": {},
   "outputs": [
    {
     "name": "stdout",
     "output_type": "stream",
     "text": [
      "Enter Line No.=2\n",
      "hope u all r doing good..!!\n",
      "\n"
     ]
    }
   ],
   "source": [
    "c=0\n",
    "f=open(\"Untitled.txt\",\"r\")\n",
    "a=int(input(\"Enter Line No.=\"))\n",
    "for i in f:\n",
    "    c=c+1\n",
    "    if a==c:\n",
    "        print(i)"
   ]
  },
  {
   "cell_type": "code",
   "execution_count": 36,
   "id": "aadb94b8",
   "metadata": {},
   "outputs": [],
   "source": [
    "f=open(\"Karan.txt\",\"w\")\n",
    "f.write(\"Hello Tushar\")\n",
    "f.write(\"\\nHow are you\")\n",
    "f.write(\"\\nAre you good\")\n",
    "f.write(\"\\nTell me about ypurself\")\n",
    "f.close()"
   ]
  },
  {
   "cell_type": "code",
   "execution_count": 120,
   "id": "1546316f",
   "metadata": {},
   "outputs": [
    {
     "name": "stdout",
     "output_type": "stream",
     "text": [
      "Enter No.=2\n",
      "Enter Name=TUshar\n",
      "Enter Name=Arvind\n"
     ]
    }
   ],
   "source": [
    "f=open(\"Karan1.txt\",\"w\")\n",
    "l=[]\n",
    "n=int(input(\"Enter No.=\"))\n",
    "for i in range(1,n+1):\n",
    "    s=input(\"Enter Name=\")\n",
    "    l.append(s)\n",
    "f.write(str(l))\n",
    "# print(l)\n",
    "f.close()"
   ]
  },
  {
   "cell_type": "code",
   "execution_count": 23,
   "id": "73a3ef37",
   "metadata": {},
   "outputs": [],
   "source": [
    "f=open(\"code1.txt\",\"w\")\n",
    "f.write(\"Hello\\n\")\n",
    "f.write(\"Tushar\")\n",
    "f.close()\n",
    "# f.tell()"
   ]
  },
  {
   "cell_type": "code",
   "execution_count": 56,
   "id": "40ebfaa6",
   "metadata": {},
   "outputs": [
    {
     "data": {
      "text/plain": [
       "0"
      ]
     },
     "execution_count": 56,
     "metadata": {},
     "output_type": "execute_result"
    }
   ],
   "source": [
    "f.seek(0)"
   ]
  },
  {
   "cell_type": "code",
   "execution_count": 58,
   "id": "92009994",
   "metadata": {},
   "outputs": [
    {
     "data": {
      "text/plain": [
       "0"
      ]
     },
     "execution_count": 58,
     "metadata": {},
     "output_type": "execute_result"
    }
   ],
   "source": [
    "f.tell()"
   ]
  },
  {
   "cell_type": "code",
   "execution_count": 45,
   "id": "47df4bc2",
   "metadata": {},
   "outputs": [
    {
     "name": "stdout",
     "output_type": "stream",
     "text": [
      "Hello\n",
      "Tushar\n"
     ]
    }
   ],
   "source": [
    "f=open(\"code1.txt\",\"r\")\n",
    "print(f.read())"
   ]
  },
  {
   "cell_type": "code",
   "execution_count": 46,
   "id": "0d8060aa",
   "metadata": {},
   "outputs": [
    {
     "data": {
      "text/plain": [
       "13"
      ]
     },
     "execution_count": 46,
     "metadata": {},
     "output_type": "execute_result"
    }
   ],
   "source": [
    "f.tell()"
   ]
  },
  {
   "cell_type": "code",
   "execution_count": 47,
   "id": "92c6ed59",
   "metadata": {},
   "outputs": [
    {
     "data": {
      "text/plain": [
       "''"
      ]
     },
     "execution_count": 47,
     "metadata": {},
     "output_type": "execute_result"
    }
   ],
   "source": [
    "f.read()"
   ]
  },
  {
   "cell_type": "code",
   "execution_count": 48,
   "id": "af8c3e59",
   "metadata": {},
   "outputs": [
    {
     "data": {
      "text/plain": [
       "0"
      ]
     },
     "execution_count": 48,
     "metadata": {},
     "output_type": "execute_result"
    }
   ],
   "source": [
    "f.seek(0)"
   ]
  },
  {
   "cell_type": "code",
   "execution_count": 49,
   "id": "99158d0c",
   "metadata": {},
   "outputs": [
    {
     "data": {
      "text/plain": [
       "'Hello\\n'"
      ]
     },
     "execution_count": 49,
     "metadata": {},
     "output_type": "execute_result"
    }
   ],
   "source": [
    "f.readline()"
   ]
  },
  {
   "cell_type": "code",
   "execution_count": 50,
   "id": "14de2892",
   "metadata": {},
   "outputs": [
    {
     "data": {
      "text/plain": [
       "'Hello\\nTushar'"
      ]
     },
     "execution_count": 50,
     "metadata": {},
     "output_type": "execute_result"
    }
   ],
   "source": [
    "f.seek(0)\n",
    "f.read()"
   ]
  },
  {
   "cell_type": "code",
   "execution_count": 51,
   "id": "7f5326cf",
   "metadata": {},
   "outputs": [
    {
     "data": {
      "text/plain": [
       "13"
      ]
     },
     "execution_count": 51,
     "metadata": {},
     "output_type": "execute_result"
    }
   ],
   "source": [
    "f.tell()"
   ]
  },
  {
   "cell_type": "code",
   "execution_count": 52,
   "id": "c8205292",
   "metadata": {},
   "outputs": [
    {
     "data": {
      "text/plain": [
       "0"
      ]
     },
     "execution_count": 52,
     "metadata": {},
     "output_type": "execute_result"
    }
   ],
   "source": [
    "f.seek(0)"
   ]
  },
  {
   "cell_type": "code",
   "execution_count": 54,
   "id": "0a78f482",
   "metadata": {},
   "outputs": [
    {
     "name": "stdout",
     "output_type": "stream",
     "text": [
      "Hello\n",
      "Tushar\n"
     ]
    }
   ],
   "source": [
    "print(f.read())"
   ]
  },
  {
   "cell_type": "code",
   "execution_count": 61,
   "id": "ecf8ae15",
   "metadata": {},
   "outputs": [
    {
     "data": {
      "text/plain": [
       "2"
      ]
     },
     "execution_count": 61,
     "metadata": {},
     "output_type": "execute_result"
    }
   ],
   "source": [
    "f.seek(2)"
   ]
  },
  {
   "cell_type": "code",
   "execution_count": 62,
   "id": "477fc018",
   "metadata": {},
   "outputs": [
    {
     "name": "stdout",
     "output_type": "stream",
     "text": [
      "llo\n",
      "Tushar\n"
     ]
    }
   ],
   "source": [
    "print(f.read())# If i will print string using seek and give no. to seek and then using print read function then always print after the index you will give."
   ]
  },
  {
   "cell_type": "code",
   "execution_count": 63,
   "id": "f4c8de23",
   "metadata": {},
   "outputs": [
    {
     "data": {
      "text/plain": [
       "0"
      ]
     },
     "execution_count": 63,
     "metadata": {},
     "output_type": "execute_result"
    }
   ],
   "source": [
    "f.seek(0)"
   ]
  },
  {
   "cell_type": "code",
   "execution_count": 64,
   "id": "8ed7cf52",
   "metadata": {},
   "outputs": [
    {
     "name": "stdout",
     "output_type": "stream",
     "text": [
      "Hell\n"
     ]
    }
   ],
   "source": [
    "print(f.read(4))# If i will give a no.in read function then string print before the index no."
   ]
  },
  {
   "cell_type": "code",
   "execution_count": 65,
   "id": "704f75de",
   "metadata": {},
   "outputs": [],
   "source": [
    "f=open(\"abcd.txt\",\"w\")\n",
    "f.close()"
   ]
  },
  {
   "cell_type": "code",
   "execution_count": 66,
   "id": "be26c396",
   "metadata": {},
   "outputs": [
    {
     "name": "stdout",
     "output_type": "stream",
     "text": [
      "Hii student..\n",
      "hope u all r doing good..!!\n",
      "We are studing file handling\\n.\n",
      "Python is intresting\\n\n",
      "Python is coding\n"
     ]
    }
   ],
   "source": [
    "f=open(\"abcd.txt\",\"r\")\n",
    "print(f.read())"
   ]
  },
  {
   "cell_type": "code",
   "execution_count": 67,
   "id": "7656d930",
   "metadata": {},
   "outputs": [
    {
     "data": {
      "text/plain": [
       "113"
      ]
     },
     "execution_count": 67,
     "metadata": {},
     "output_type": "execute_result"
    }
   ],
   "source": [
    "f.tell()"
   ]
  },
  {
   "cell_type": "code",
   "execution_count": 86,
   "id": "53bacaae",
   "metadata": {},
   "outputs": [
    {
     "data": {
      "text/plain": [
       "0"
      ]
     },
     "execution_count": 86,
     "metadata": {},
     "output_type": "execute_result"
    }
   ],
   "source": [
    "f.seek(0)"
   ]
  },
  {
   "cell_type": "code",
   "execution_count": 84,
   "id": "d5aa9d80",
   "metadata": {},
   "outputs": [
    {
     "name": "stdout",
     "output_type": "stream",
     "text": [
      "['Hii student..\\n', 'hope u all r doing good..!!\\n', 'We are studing file handling\\\\n.\\n', 'Python is intresting\\\\n\\n', 'Python is coding']\n",
      "['Hii student..', 'hope u all r doing good..!!', 'We are studing file handling\\\\n.', 'Python is intresting\\\\n', 'Python is coding']\n"
     ]
    }
   ],
   "source": [
    "# Remove \"\\n\". String have no remove keyword so i can use replace() keyword because string have a replace keyword \n",
    "a=[]\n",
    "l=f.readlines()\n",
    "print(l)\n",
    "for i in l:\n",
    "    b=i.replace(\"\\n\",\"\")\n",
    "    a.append(b)\n",
    "print(a)"
   ]
  },
  {
   "cell_type": "code",
   "execution_count": 91,
   "id": "47fa9f6b",
   "metadata": {},
   "outputs": [
    {
     "data": {
      "text/plain": [
       "0"
      ]
     },
     "execution_count": 91,
     "metadata": {},
     "output_type": "execute_result"
    }
   ],
   "source": [
    "f.seek(0)"
   ]
  },
  {
   "cell_type": "code",
   "execution_count": 92,
   "id": "fb60a000",
   "metadata": {},
   "outputs": [
    {
     "name": "stdout",
     "output_type": "stream",
     "text": [
      "['Hii student..', 'hope u all r doing good..!!', 'We are studing file handling\\\\n.', 'Python is intresting\\\\n', 'Python is coding']\n",
      "['Hii student', 'hope u all r doing good!!', 'We are studing file handling\\\\n', 'Python is intresting\\\\n', 'Python is coding']\n",
      "['Hii student', 'hope u all r doing good', 'We are studing file handling\\\\n', 'Python is intresting\\\\n', 'Python is coding']\n"
     ]
    }
   ],
   "source": [
    "a=[]\n",
    "d=[]\n",
    "z=[]\n",
    "l=f.readlines()\n",
    "# print(l)\n",
    "for i in l:\n",
    "    b=i.replace(\"\\n\",\"\")# First i have remove \"\\n\"\n",
    "    a.append(b)\n",
    "print(a)\n",
    "b=a\n",
    "for j in b:\n",
    "    x=j.replace(\".\",\"\")# Second i have replace \".\"\n",
    "    d.append(x)\n",
    "print(d)\n",
    "e=d\n",
    "for k in e:\n",
    "    y=k.replace(\"!\",\"\")# Third i have replace \"!\"\n",
    "    z.append(y)\n",
    "print(z)"
   ]
  },
  {
   "cell_type": "code",
   "execution_count": null,
   "id": "58295959",
   "metadata": {},
   "outputs": [],
   "source": [
    "# \"a\" Mode= Append"
   ]
  },
  {
   "cell_type": "code",
   "execution_count": 2,
   "id": "fc793883",
   "metadata": {},
   "outputs": [],
   "source": [
    "f=open(\"append.txt\",\"w\")\n",
    "f.write(\"Hii\\n\")\n",
    "f.write(\"Guys\\n\")\n",
    "f.write(\"How are you\\n\")\n",
    "f.close()"
   ]
  },
  {
   "cell_type": "code",
   "execution_count": 5,
   "id": "d8d9b640",
   "metadata": {},
   "outputs": [],
   "source": [
    "f=open(\"append.txt\",\"a\")\n",
    "f.write(\"\\nYou are fine\")\n",
    "f.close()"
   ]
  },
  {
   "cell_type": "code",
   "execution_count": null,
   "id": "68fa85ec",
   "metadata": {},
   "outputs": [],
   "source": [
    "# \"r+\" Mode="
   ]
  },
  {
   "cell_type": "code",
   "execution_count": 6,
   "id": "8fb714f6",
   "metadata": {},
   "outputs": [
    {
     "data": {
      "text/plain": [
       "<_io.TextIOWrapper name='append.txt' mode='r+' encoding='cp1252'>"
      ]
     },
     "execution_count": 6,
     "metadata": {},
     "output_type": "execute_result"
    }
   ],
   "source": [
    "f=open(\"append.txt\",\"r+\")\n",
    "f"
   ]
  },
  {
   "cell_type": "code",
   "execution_count": 7,
   "id": "97710676",
   "metadata": {},
   "outputs": [
    {
     "data": {
      "text/plain": [
       "0"
      ]
     },
     "execution_count": 7,
     "metadata": {},
     "output_type": "execute_result"
    }
   ],
   "source": [
    "f.tell()"
   ]
  },
  {
   "cell_type": "code",
   "execution_count": 8,
   "id": "bc0b3833",
   "metadata": {},
   "outputs": [
    {
     "data": {
      "text/plain": [
       "'Hii\\nGuys\\nHow are you\\nYou are fineYou are fine\\nYou are fine'"
      ]
     },
     "execution_count": 8,
     "metadata": {},
     "output_type": "execute_result"
    }
   ],
   "source": [
    "f.read()"
   ]
  },
  {
   "cell_type": "code",
   "execution_count": 9,
   "id": "2fd8099a",
   "metadata": {},
   "outputs": [],
   "source": [
    "f.write(\"\\nHello\")\n",
    "f.close()"
   ]
  },
  {
   "cell_type": "code",
   "execution_count": null,
   "id": "d53355a3",
   "metadata": {},
   "outputs": [],
   "source": []
  },
  {
   "cell_type": "code",
   "execution_count": null,
   "id": "d0df9586",
   "metadata": {},
   "outputs": [],
   "source": [
    "f.seek()"
   ]
  },
  {
   "cell_type": "code",
   "execution_count": 13,
   "id": "deee4a00",
   "metadata": {},
   "outputs": [
    {
     "data": {
      "text/plain": [
       "<_io.TextIOWrapper name='append.txt' mode='r+' encoding='cp1252'>"
      ]
     },
     "execution_count": 13,
     "metadata": {},
     "output_type": "execute_result"
    }
   ],
   "source": [
    "f=open(\"append.txt\",\"r+\")\n",
    "f"
   ]
  },
  {
   "cell_type": "code",
   "execution_count": 14,
   "id": "a064cf81",
   "metadata": {},
   "outputs": [],
   "source": [
    "f.write(\"Hello\\n\")\n",
    "f.close()"
   ]
  },
  {
   "cell_type": "code",
   "execution_count": 15,
   "id": "63397048",
   "metadata": {},
   "outputs": [
    {
     "data": {
      "text/plain": [
       "<_io.TextIOWrapper name='append.txt' mode='r+' encoding='cp1252'>"
      ]
     },
     "execution_count": 15,
     "metadata": {},
     "output_type": "execute_result"
    }
   ],
   "source": [
    "f=open(\"append.txt\",\"r+\")\n",
    "f"
   ]
  },
  {
   "cell_type": "code",
   "execution_count": 16,
   "id": "efc9a19a",
   "metadata": {},
   "outputs": [],
   "source": [
    "f.seek(6)\n",
    "f.write(\"Bye\")\n",
    "f.close()"
   ]
  },
  {
   "cell_type": "code",
   "execution_count": 18,
   "id": "ce8820f2",
   "metadata": {},
   "outputs": [
    {
     "data": {
      "text/plain": [
       "<_io.TextIOWrapper name='append.txt' mode='a+' encoding='cp1252'>"
      ]
     },
     "execution_count": 18,
     "metadata": {},
     "output_type": "execute_result"
    }
   ],
   "source": [
    "f=open(\"append.txt\",\"a+\")\n",
    "f"
   ]
  },
  {
   "cell_type": "code",
   "execution_count": 19,
   "id": "a1cc210c",
   "metadata": {},
   "outputs": [],
   "source": [
    "f.write(\"hiiiii\\n\")\n",
    "f.close()"
   ]
  },
  {
   "cell_type": "code",
   "execution_count": null,
   "id": "56e38503",
   "metadata": {},
   "outputs": [],
   "source": [
    "# Task 1. Add the food items in the file.\n",
    "# Task 2. Take the food item from the user and check it is present in the file or not if it is not present then add to the file else nothing.\n",
    "# Task 3. Find the longest food item presnt in the file"
   ]
  },
  {
   "cell_type": "code",
   "execution_count": 22,
   "id": "052fb948",
   "metadata": {},
   "outputs": [
    {
     "name": "stdout",
     "output_type": "stream",
     "text": [
      "Enter The No. of Food=4\n",
      "Enter The Item of Food=Tomato\n",
      "Enter The Item of Food=Potato\n",
      "Enter The Item of Food=Onion\n",
      "Enter The Item of Food=Carrot\n"
     ]
    }
   ],
   "source": [
    "f=open(\"food.txt\",\"w\")\n",
    "a=int(input(\"Enter The No. of Food=\"))\n",
    "for i in range(1,a+1):\n",
    "    b=input(\"Enter The Item of Food=\")\n",
    "    f.write(b+\"\\n\")\n",
    "f.close()"
   ]
  },
  {
   "cell_type": "code",
   "execution_count": null,
   "id": "f194558e",
   "metadata": {},
   "outputs": [],
   "source": [
    "f=open(\"food.txt\",\"w\")\n"
   ]
  },
  {
   "cell_type": "code",
   "execution_count": 30,
   "id": "e34a66fe",
   "metadata": {},
   "outputs": [
    {
     "name": "stdout",
     "output_type": "stream",
     "text": [
      "Enter Your Food=Tomato\n",
      "Tomato\n",
      "\n",
      "It is present in the file:\n",
      "Potato\n",
      "\n"
     ]
    }
   ],
   "source": [
    "f=open(\"food.txt\",\"r+\")\n",
    "x=input(\"Enter Your Food=\")\n",
    "x=x+\"\\n\"\n",
    "for i in f:\n",
    "    print(i)\n",
    "    if i==x:\n",
    "        print(\"It is present in the file:\")\n",
    "    else:\n",
    "        f.write(x+\"\\n\")\n",
    "f.close()\n"
   ]
  },
  {
   "cell_type": "code",
   "execution_count": null,
   "id": "c91234be",
   "metadata": {},
   "outputs": [],
   "source": [
    "# Write a program to read the corresponding lines from two files"
   ]
  },
  {
   "cell_type": "code",
   "execution_count": 37,
   "id": "8dc93930",
   "metadata": {},
   "outputs": [
    {
     "name": "stdout",
     "output_type": "stream",
     "text": [
      "Enter No. of fruits=4\n",
      "Enter Fruit name=Apple\n",
      "Enter Fruit name=Mango\n",
      "Enter Fruit name=Banana\n",
      "Enter Fruit name=Litchi\n"
     ]
    }
   ],
   "source": [
    "f=open(\"fruit.txt\",\"w\")\n",
    "a=int(input(\"Enter No. of fruits=\"))\n",
    "for i in range(1,a+1):\n",
    "    b=input(\"Enter Fruit name=\")\n",
    "    f.write(b+\"\\n\")\n",
    "f.close()"
   ]
  },
  {
   "cell_type": "code",
   "execution_count": 35,
   "id": "b3d14e43",
   "metadata": {},
   "outputs": [
    {
     "data": {
      "text/plain": [
       "['Tomato\\n', 'Potato\\n', 'Onion\\n', 'Carrot\\n']"
      ]
     },
     "execution_count": 35,
     "metadata": {},
     "output_type": "execute_result"
    }
   ],
   "source": [
    "f=open(\"food.txt\",\"r\")\n",
    "x=f.readlines()\n",
    "x"
   ]
  },
  {
   "cell_type": "code",
   "execution_count": 38,
   "id": "4ba1e9f7",
   "metadata": {},
   "outputs": [
    {
     "data": {
      "text/plain": [
       "['Tomato\\n', 'Potato\\n', 'Onion\\n', 'Carrot\\n']"
      ]
     },
     "execution_count": 38,
     "metadata": {},
     "output_type": "execute_result"
    }
   ],
   "source": [
    "f=open(\"food.txt\",\"r\")\n",
    "y=f.readlines()\n",
    "y"
   ]
  },
  {
   "cell_type": "code",
   "execution_count": null,
   "id": "10aebd7a",
   "metadata": {},
   "outputs": [],
   "source": [
    "# Write a content "
   ]
  },
  {
   "cell_type": "code",
   "execution_count": null,
   "id": "99c0d126",
   "metadata": {},
   "outputs": [],
   "source": [
    "# \"X\" Mode=X mode only use one time creation if we create one more file on the same name then x will show error but w mode not show error"
   ]
  },
  {
   "cell_type": "code",
   "execution_count": 39,
   "id": "0b209dd5",
   "metadata": {},
   "outputs": [
    {
     "ename": "FileExistsError",
     "evalue": "[Errno 17] File exists: 'fruit.txt'",
     "output_type": "error",
     "traceback": [
      "\u001b[1;31m---------------------------------------------------------------------------\u001b[0m",
      "\u001b[1;31mFileExistsError\u001b[0m                           Traceback (most recent call last)",
      "Input \u001b[1;32mIn [39]\u001b[0m, in \u001b[0;36m<cell line: 1>\u001b[1;34m()\u001b[0m\n\u001b[1;32m----> 1\u001b[0m f\u001b[38;5;241m=\u001b[39m\u001b[38;5;28;43mopen\u001b[39;49m\u001b[43m(\u001b[49m\u001b[38;5;124;43m\"\u001b[39;49m\u001b[38;5;124;43mfruit.txt\u001b[39;49m\u001b[38;5;124;43m\"\u001b[39;49m\u001b[43m,\u001b[49m\u001b[38;5;124;43m\"\u001b[39;49m\u001b[38;5;124;43mx\u001b[39;49m\u001b[38;5;124;43m\"\u001b[39;49m\u001b[43m)\u001b[49m\n\u001b[0;32m      2\u001b[0m f\u001b[38;5;241m.\u001b[39mclose()\n",
      "\u001b[1;31mFileExistsError\u001b[0m: [Errno 17] File exists: 'fruit.txt'"
     ]
    }
   ],
   "source": [
    "f=open(\"fruit.txt\",\"x\")\n",
    "f.close()"
   ]
  },
  {
   "cell_type": "markdown",
   "id": "857e546a",
   "metadata": {},
   "source": [
    "# Q-"
   ]
  },
  {
   "cell_type": "code",
   "execution_count": 108,
   "id": "f99f4f1f",
   "metadata": {},
   "outputs": [],
   "source": [
    "f=open(\"tt.txt\",\"w\")\n",
    "f.write(\"Hello\\n\")\n",
    "f.write(\"Tushar\\n\")\n",
    "f.write(\"How are you\\n\")\n",
    "f.close()"
   ]
  },
  {
   "cell_type": "markdown",
   "id": "49926edf",
   "metadata": {},
   "source": [
    "# Using a(append) Mode"
   ]
  },
  {
   "cell_type": "code",
   "execution_count": 109,
   "id": "f7af131c",
   "metadata": {},
   "outputs": [],
   "source": [
    "f=open(\"tt.txt\",\"a\")# Using a(append Mode)to write the line in the file without erase previoud data\n",
    "f.write(\"Everything is fine\\n\")\n",
    "f.close()"
   ]
  },
  {
   "cell_type": "code",
   "execution_count": 110,
   "id": "8588a398",
   "metadata": {},
   "outputs": [
    {
     "data": {
      "text/plain": [
       "<_io.TextIOWrapper name='tt.txt' mode='a' encoding='cp1252'>"
      ]
     },
     "execution_count": 110,
     "metadata": {},
     "output_type": "execute_result"
    }
   ],
   "source": [
    "f=open(\"tt.txt\",\"a\")\n",
    "f"
   ]
  },
  {
   "cell_type": "code",
   "execution_count": 111,
   "id": "b04ef224",
   "metadata": {},
   "outputs": [
    {
     "data": {
      "text/plain": [
       "48"
      ]
     },
     "execution_count": 111,
     "metadata": {},
     "output_type": "execute_result"
    }
   ],
   "source": [
    "f.tell()"
   ]
  },
  {
   "cell_type": "code",
   "execution_count": 112,
   "id": "a59d66b4",
   "metadata": {},
   "outputs": [],
   "source": [
    "f.writelines([\"Hope\\n\",\"All are good\\n\"])\n",
    "f.close()"
   ]
  },
  {
   "cell_type": "code",
   "execution_count": 113,
   "id": "0784ac4a",
   "metadata": {},
   "outputs": [
    {
     "data": {
      "text/plain": [
       "<_io.TextIOWrapper name='tt.txt' mode='a' encoding='cp1252'>"
      ]
     },
     "execution_count": 113,
     "metadata": {},
     "output_type": "execute_result"
    }
   ],
   "source": [
    "f=open(\"tt.txt\",\"a\")\n",
    "f"
   ]
  },
  {
   "cell_type": "code",
   "execution_count": 114,
   "id": "8fb992ae",
   "metadata": {},
   "outputs": [
    {
     "data": {
      "text/plain": [
       "68"
      ]
     },
     "execution_count": 114,
     "metadata": {},
     "output_type": "execute_result"
    }
   ],
   "source": [
    "f.tell()"
   ]
  },
  {
   "cell_type": "code",
   "execution_count": null,
   "id": "553d6da1",
   "metadata": {},
   "outputs": [],
   "source": [
    "# append mode not allow to add the content in the middle."
   ]
  },
  {
   "cell_type": "code",
   "execution_count": 39,
   "id": "15a2e742",
   "metadata": {},
   "outputs": [],
   "source": [
    "# f.seek(14)# append mode had not allow to add the content in th middle. Append mode on add the content in the end.\n",
    "# f.write(\"Tomer\")\n",
    "# f.close()"
   ]
  },
  {
   "cell_type": "markdown",
   "id": "2df1f29b",
   "metadata": {},
   "source": [
    "# Using r+ mode(write & read both)\n",
    "# r+ mode have write to read & write both."
   ]
  },
  {
   "cell_type": "code",
   "execution_count": null,
   "id": "1d923171",
   "metadata": {},
   "outputs": [],
   "source": [
    "# We can use the previous file for example"
   ]
  },
  {
   "cell_type": "code",
   "execution_count": 115,
   "id": "06a59e50",
   "metadata": {},
   "outputs": [
    {
     "data": {
      "text/plain": [
       "<_io.TextIOWrapper name='tt.txt' mode='r+' encoding='cp1252'>"
      ]
     },
     "execution_count": 115,
     "metadata": {},
     "output_type": "execute_result"
    }
   ],
   "source": [
    "f=open(\"tt.txt\",\"r+\")\n",
    "f"
   ]
  },
  {
   "cell_type": "code",
   "execution_count": 116,
   "id": "a8a547ce",
   "metadata": {},
   "outputs": [
    {
     "data": {
      "text/plain": [
       "0"
      ]
     },
     "execution_count": 116,
     "metadata": {},
     "output_type": "execute_result"
    }
   ],
   "source": [
    "f.tell()"
   ]
  },
  {
   "cell_type": "code",
   "execution_count": 117,
   "id": "a5c049a0",
   "metadata": {},
   "outputs": [
    {
     "data": {
      "text/plain": [
       "'Hello\\nTushar\\nHow are you\\nEverything is fine\\nHope\\nAll are good\\n'"
      ]
     },
     "execution_count": 117,
     "metadata": {},
     "output_type": "execute_result"
    }
   ],
   "source": [
    "f.read()"
   ]
  },
  {
   "cell_type": "code",
   "execution_count": 118,
   "id": "e527e651",
   "metadata": {},
   "outputs": [
    {
     "data": {
      "text/plain": [
       "''"
      ]
     },
     "execution_count": 118,
     "metadata": {},
     "output_type": "execute_result"
    }
   ],
   "source": [
    "f.read()# Output is empty because all the content are alread read the cursor move to the end"
   ]
  },
  {
   "cell_type": "code",
   "execution_count": 119,
   "id": "b5e1509c",
   "metadata": {},
   "outputs": [],
   "source": [
    "f.write(\"Tell me\\n\")\n",
    "f.close()"
   ]
  },
  {
   "cell_type": "code",
   "execution_count": 120,
   "id": "1ebb082b",
   "metadata": {},
   "outputs": [
    {
     "data": {
      "text/plain": [
       "<_io.TextIOWrapper name='tt.txt' mode='r+' encoding='cp1252'>"
      ]
     },
     "execution_count": 120,
     "metadata": {},
     "output_type": "execute_result"
    }
   ],
   "source": [
    "f=open(\"tt.txt\",\"r+\")\n",
    "f"
   ]
  },
  {
   "cell_type": "code",
   "execution_count": 121,
   "id": "fc68cdfb",
   "metadata": {},
   "outputs": [
    {
     "data": {
      "text/plain": [
       "0"
      ]
     },
     "execution_count": 121,
     "metadata": {},
     "output_type": "execute_result"
    }
   ],
   "source": [
    "f.tell()"
   ]
  },
  {
   "cell_type": "code",
   "execution_count": 122,
   "id": "613f0267",
   "metadata": {},
   "outputs": [],
   "source": [
    "f.seek(16)\n",
    "f.write(\"Tomer\\n\")\n",
    "f.close()"
   ]
  },
  {
   "cell_type": "code",
   "execution_count": null,
   "id": "dcdf3814",
   "metadata": {},
   "outputs": [],
   "source": []
  },
  {
   "cell_type": "code",
   "execution_count": 133,
   "id": "7c2af2b3",
   "metadata": {},
   "outputs": [],
   "source": [
    "f=open(\"kk.txt\",\"w\")\n",
    "f.write(\"Krishan jii\\n\")\n",
    "f.write(\"Khatu shyam jii\\n\")\n",
    "f.write(\"Ram jii\\n\")\n",
    "f.write(\"Haluman jii\\n\")\n",
    "f.close()"
   ]
  },
  {
   "cell_type": "code",
   "execution_count": 135,
   "id": "a86821ff",
   "metadata": {},
   "outputs": [
    {
     "data": {
      "text/plain": [
       "<_io.TextIOWrapper name='kk.txt' mode='r+' encoding='cp1252'>"
      ]
     },
     "execution_count": 135,
     "metadata": {},
     "output_type": "execute_result"
    }
   ],
   "source": [
    "f=open(\"kk.txt\",\"r+\")\n",
    "f"
   ]
  },
  {
   "cell_type": "code",
   "execution_count": 130,
   "id": "d8fe545b",
   "metadata": {},
   "outputs": [
    {
     "data": {
      "text/plain": [
       "0"
      ]
     },
     "execution_count": 130,
     "metadata": {},
     "output_type": "execute_result"
    }
   ],
   "source": [
    "f.tell()"
   ]
  },
  {
   "cell_type": "code",
   "execution_count": 136,
   "id": "9425c1cd",
   "metadata": {},
   "outputs": [
    {
     "data": {
      "text/plain": [
       "13"
      ]
     },
     "execution_count": 136,
     "metadata": {},
     "output_type": "execute_result"
    }
   ],
   "source": [
    "f.seek(13) "
   ]
  },
  {
   "cell_type": "code",
   "execution_count": 137,
   "id": "1cf66222",
   "metadata": {},
   "outputs": [],
   "source": [
    "# r+ mode\n",
    "# f=open(\"kk.txt\",\"r+\")\n",
    "# f.write(\"Krishan jii\\n\")\n",
    "f.write(\"Khatu shyam jii\\n\")\n",
    "# f.write(\"Ram jii\\n\")\n",
    "# f.write(\"Haluman jii\\n\")\n",
    "f.close()"
   ]
  },
  {
   "cell_type": "markdown",
   "id": "3fb42151",
   "metadata": {},
   "source": [
    "# Using a+ Mode"
   ]
  },
  {
   "cell_type": "code",
   "execution_count": 6,
   "id": "853d1275",
   "metadata": {},
   "outputs": [],
   "source": [
    "f=open(\"kt.txt\",\"w\")\n",
    "f.write(\"Hello\\n\")\n",
    "f.write(\"Tushar\\n\")\n",
    "f.write(\"How are you\\n\")\n",
    "f.close()"
   ]
  },
  {
   "cell_type": "code",
   "execution_count": 7,
   "id": "982b791d",
   "metadata": {},
   "outputs": [],
   "source": [
    "f=open(\"kt.txt\",\"a\")\n",
    "f.write(\"All are good tushar\\n\")\n",
    "f.close()"
   ]
  },
  {
   "cell_type": "code",
   "execution_count": 8,
   "id": "00981eab",
   "metadata": {},
   "outputs": [
    {
     "data": {
      "text/plain": [
       "<_io.TextIOWrapper name='kt.txt' mode='a+' encoding='cp1252'>"
      ]
     },
     "execution_count": 8,
     "metadata": {},
     "output_type": "execute_result"
    }
   ],
   "source": [
    "f=open(\"kt.txt\",\"a+\")\n",
    "f"
   ]
  },
  {
   "cell_type": "code",
   "execution_count": 9,
   "id": "e7c403e4",
   "metadata": {},
   "outputs": [],
   "source": [
    "f.write(\"Tell me\\n\")\n",
    "f.close()"
   ]
  },
  {
   "cell_type": "code",
   "execution_count": 10,
   "id": "67fc5a5c",
   "metadata": {},
   "outputs": [
    {
     "data": {
      "text/plain": [
       "<_io.TextIOWrapper name='kt.txt' mode='a+' encoding='cp1252'>"
      ]
     },
     "execution_count": 10,
     "metadata": {},
     "output_type": "execute_result"
    }
   ],
   "source": [
    "f=open(\"kt.txt\",\"a+\")\n",
    "f"
   ]
  },
  {
   "cell_type": "code",
   "execution_count": 11,
   "id": "22c84f8a",
   "metadata": {},
   "outputs": [
    {
     "data": {
      "text/plain": [
       "58"
      ]
     },
     "execution_count": 11,
     "metadata": {},
     "output_type": "execute_result"
    }
   ],
   "source": [
    "f.tell()"
   ]
  },
  {
   "cell_type": "code",
   "execution_count": 12,
   "id": "f05b21fe",
   "metadata": {},
   "outputs": [
    {
     "data": {
      "text/plain": [
       "0"
      ]
     },
     "execution_count": 12,
     "metadata": {},
     "output_type": "execute_result"
    }
   ],
   "source": [
    "f.seek(0)"
   ]
  },
  {
   "cell_type": "code",
   "execution_count": 13,
   "id": "04c77914",
   "metadata": {},
   "outputs": [
    {
     "data": {
      "text/plain": [
       "0"
      ]
     },
     "execution_count": 13,
     "metadata": {},
     "output_type": "execute_result"
    }
   ],
   "source": [
    "f.tell()"
   ]
  },
  {
   "cell_type": "code",
   "execution_count": 14,
   "id": "80436bcd",
   "metadata": {},
   "outputs": [
    {
     "data": {
      "text/plain": [
       "'Hello\\nTushar\\nHow are you\\nAll are good tushar\\nTell me\\n'"
      ]
     },
     "execution_count": 14,
     "metadata": {},
     "output_type": "execute_result"
    }
   ],
   "source": [
    "f.read()"
   ]
  },
  {
   "cell_type": "code",
   "execution_count": 15,
   "id": "2dbd8413",
   "metadata": {},
   "outputs": [
    {
     "data": {
      "text/plain": [
       "<_io.TextIOWrapper name='kt.txt' mode='a+' encoding='cp1252'>"
      ]
     },
     "execution_count": 15,
     "metadata": {},
     "output_type": "execute_result"
    }
   ],
   "source": [
    "f=open(\"kt.txt\",\"a+\")\n",
    "f"
   ]
  },
  {
   "cell_type": "code",
   "execution_count": 16,
   "id": "f3eb7bae",
   "metadata": {},
   "outputs": [
    {
     "data": {
      "text/plain": [
       "5"
      ]
     },
     "execution_count": 16,
     "metadata": {},
     "output_type": "execute_result"
    }
   ],
   "source": [
    "f.seek(5)"
   ]
  },
  {
   "cell_type": "code",
   "execution_count": 17,
   "id": "32d31b86",
   "metadata": {},
   "outputs": [
    {
     "data": {
      "text/plain": [
       "'\\nTushar\\nHow are you\\nAll are good tushar\\nTell me\\n'"
      ]
     },
     "execution_count": 17,
     "metadata": {},
     "output_type": "execute_result"
    }
   ],
   "source": [
    "f.read()"
   ]
  },
  {
   "cell_type": "code",
   "execution_count": null,
   "id": "77dda28b",
   "metadata": {},
   "outputs": [],
   "source": [
    "# Task 1. Add the food items in the file.\n",
    "# Task 2. Take the food item from the user and check it is present in the file or not if it is not present then add to the file else print it is in the file.\n",
    "# Task 3. Find the longest food item presnt in the file"
   ]
  },
  {
   "cell_type": "code",
   "execution_count": 26,
   "id": "83ef98e3",
   "metadata": {},
   "outputs": [
    {
     "name": "stdout",
     "output_type": "stream",
     "text": [
      "Enter the no. of food=4\n",
      "Enter the food=Pizza\n",
      "Enter the food=Burgur\n",
      "Enter the food=Noodles\n",
      "Enter the food=Sandwitch\n"
     ]
    }
   ],
   "source": [
    "f=open(\"food1.txt\",\"w\")\n",
    "n=int(input(\"Enter the no. of food=\"))\n",
    "for i in range(1,n+1):\n",
    "    a=input(\"Enter the food=\")\n",
    "    f.write(a+\"\\n\")\n",
    "f.close()"
   ]
  },
  {
   "cell_type": "code",
   "execution_count": 27,
   "id": "ff41c7ec",
   "metadata": {},
   "outputs": [
    {
     "name": "stdout",
     "output_type": "stream",
     "text": [
      "Enter Your Food=Pasta\n"
     ]
    }
   ],
   "source": [
    "f=open(\"food1.txt\",\"r+\")\n",
    "a=input(\"Enter Your Food=\")\n",
    "a=a+\"\\n\"\n",
    "for i in f:\n",
    "    if i==a:\n",
    "        print(\"It is present in the file:\")\n",
    "    else:\n",
    "        f.write(a)\n",
    "f.close()"
   ]
  },
  {
   "cell_type": "markdown",
   "id": "ead9f704",
   "metadata": {},
   "source": [
    "# Maximum Error"
   ]
  },
  {
   "cell_type": "code",
   "execution_count": 39,
   "id": "4d214c25",
   "metadata": {},
   "outputs": [
    {
     "name": "stdout",
     "output_type": "stream",
     "text": [
      "['Pizza', 'Burgur', 'Noodles', 'Sandwitch', 'Pasta', 'Tikki']\n",
      "Tikki\n"
     ]
    }
   ],
   "source": [
    "l=[]\n",
    "c=0\n",
    "d=0\n",
    "f=open(\"food1.txt\",\"r+\")\n",
    "for i in f:\n",
    "    a=i.replace(\"\\n\",\"\")\n",
    "    l.append(a)\n",
    "x=l\n",
    "print(x)\n",
    "for i in x:\n",
    "    for j in i:\n",
    "        c=c+1\n",
    "    if c>d:\n",
    "        m=i\n",
    "        d=c\n",
    "print(m)\n",
    "f.close()"
   ]
  },
  {
   "cell_type": "code",
   "execution_count": 40,
   "id": "9a4107f4",
   "metadata": {},
   "outputs": [
    {
     "data": {
      "text/plain": [
       "['Sandwitch', 'Noodles', 'Burgur', 'Pizza', 'Pasta', 'Tikki']"
      ]
     },
     "execution_count": 40,
     "metadata": {},
     "output_type": "execute_result"
    }
   ],
   "source": [
    "#sorted(x,reverse=True)\n",
    "sorted(x,key=lambda s:len(s),reverse=True)"
   ]
  },
  {
   "cell_type": "code",
   "execution_count": 41,
   "id": "3dabf7b7",
   "metadata": {},
   "outputs": [
    {
     "name": "stdout",
     "output_type": "stream",
     "text": [
      "['Tikki', 'Sandwitch', 'Pizza', 'Pasta', 'Noodles', 'Burgur']\n",
      "Tikki\n"
     ]
    }
   ],
   "source": [
    "p=sorted(x,reverse=True)\n",
    "print(p)\n",
    "print(max(p))"
   ]
  },
  {
   "cell_type": "code",
   "execution_count": 44,
   "id": "2119a82f",
   "metadata": {},
   "outputs": [
    {
     "name": "stdout",
     "output_type": "stream",
     "text": [
      "Sandwitch\n",
      "\n"
     ]
    }
   ],
   "source": [
    "n=0\n",
    "f=open(\"food1.txt\",\"r+\")\n",
    "for i in f:\n",
    "    a=len(i)\n",
    "    if a>n:\n",
    "        m=i\n",
    "        n=a\n",
    "print(m)\n",
    "f.close()"
   ]
  },
  {
   "cell_type": "code",
   "execution_count": 38,
   "id": "9ff689bf",
   "metadata": {},
   "outputs": [
    {
     "name": "stdout",
     "output_type": "stream",
     "text": [
      "Sandwitch\n"
     ]
    }
   ],
   "source": [
    "print(max(x))"
   ]
  },
  {
   "cell_type": "markdown",
   "id": "ef03bc00",
   "metadata": {},
   "source": [
    "# Q-  Write a program to read the corresponding lines from two files.\n",
    "# Using zip function"
   ]
  },
  {
   "cell_type": "code",
   "execution_count": 39,
   "id": "90f84f1d",
   "metadata": {},
   "outputs": [
    {
     "name": "stdout",
     "output_type": "stream",
     "text": [
      "Enter No. of shoes=4\n",
      "Enter shoes Name=Sneekers\n",
      "Enter shoes Name=Balley\n",
      "Enter shoes Name=Juti\n",
      "Enter shoes Name=Juti\n"
     ]
    }
   ],
   "source": [
    "f=open(\"shoes.txt\",\"w\")\n",
    "n=int(input(\"Enter No. of shoes=\"))\n",
    "for i in range(1,n+1):\n",
    "    a=input(\"Enter shoes Name=\")\n",
    "    f.write(a+\"\\n\")\n",
    "f.close()"
   ]
  },
  {
   "cell_type": "code",
   "execution_count": 57,
   "id": "4799d34d",
   "metadata": {},
   "outputs": [
    {
     "name": "stdout",
     "output_type": "stream",
     "text": [
      "['Jeans\\n', 'Blazer\\n', 'Sherwani\\n', 'Indowestern\\n']\n",
      "['Jeans', 'Blazer', 'Sherwani', 'Indowestern']\n"
     ]
    }
   ],
   "source": [
    "l=[]\n",
    "f=open(\"dress.txt\",\"r+\")# We can use both r and r+ for reading the file\n",
    "a=f.readlines()\n",
    "print(a)\n",
    "for i in a:\n",
    "    p=i.replace(\"\\n\",\"\")\n",
    "    l.append(p)\n",
    "q=l\n",
    "print(q)"
   ]
  },
  {
   "cell_type": "code",
   "execution_count": 62,
   "id": "75f684ba",
   "metadata": {},
   "outputs": [
    {
     "name": "stdout",
     "output_type": "stream",
     "text": [
      "['Sneekers\\n', 'Balley\\n', 'Juti\\n', 'Juti\\n']\n",
      "['Sneekers', 'Balley', 'Juti', 'Juti']\n"
     ]
    }
   ],
   "source": [
    "l1=[]\n",
    "f=open(\"shoes.txt\",\"r+\")# We can use both r and r+ for reading the file# We can use both r and r+ for reading the file\n",
    "b=f.readlines()\n",
    "print(b)\n",
    "for i in b:\n",
    "    p=i.replace(\"\\n\",\"\")\n",
    "    l1.append(p)\n",
    "z=l1\n",
    "print(z)"
   ]
  },
  {
   "cell_type": "code",
   "execution_count": 63,
   "id": "836a1392",
   "metadata": {},
   "outputs": [
    {
     "data": {
      "text/plain": [
       "[('Jeans', 'Sneekers'),\n",
       " ('Blazer', 'Balley'),\n",
       " ('Sherwani', 'Juti'),\n",
       " ('Indowestern', 'Juti')]"
      ]
     },
     "execution_count": 63,
     "metadata": {},
     "output_type": "execute_result"
    }
   ],
   "source": [
    "list(zip(q,z))# Convert into list"
   ]
  },
  {
   "cell_type": "code",
   "execution_count": 64,
   "id": "3a361670",
   "metadata": {},
   "outputs": [
    {
     "name": "stdout",
     "output_type": "stream",
     "text": [
      "['Jeans\\n', 'Blazer\\n', 'Sherwani\\n', 'Indowestern\\n']\n",
      "['Jeans', 'Blazer', 'Sherwani', 'Indowestern']\n"
     ]
    }
   ],
   "source": [
    "l=[]\n",
    "f=open(\"dress.txt\",\"r+\")# We can use both r and r+ for reading the file\n",
    "x=f.readlines()\n",
    "print(a)\n",
    "for i in a:\n",
    "    p=i.replace(\"\\n\",\"\")\n",
    "    l.append(p)\n",
    "q=l\n",
    "print(q)"
   ]
  },
  {
   "cell_type": "code",
   "execution_count": 65,
   "id": "c1d2bd9a",
   "metadata": {},
   "outputs": [
    {
     "name": "stdout",
     "output_type": "stream",
     "text": [
      "['Sneekers\\n', 'Balley\\n', 'Juti\\n', 'Juti\\n']\n",
      "['Sneekers', 'Balley', 'Juti', 'Juti']\n"
     ]
    }
   ],
   "source": [
    "l=[]\n",
    "f=open(\"shoes.txt\",\"r+\")# We can use both r and r+ for reading the file# We can use both r and r+ for reading the file\n",
    "y=f.readlines()\n",
    "print(b)\n",
    "for i in b:\n",
    "    p=i.replace(\"\\n\",\"\")\n",
    "    l.append(p)\n",
    "z=l\n",
    "print(z)"
   ]
  },
  {
   "cell_type": "code",
   "execution_count": 66,
   "id": "6734fd8e",
   "metadata": {},
   "outputs": [
    {
     "data": {
      "text/plain": [
       "{'Jeans': 'Sneekers',\n",
       " 'Blazer': 'Balley',\n",
       " 'Sherwani': 'Juti',\n",
       " 'Indowestern': 'Juti'}"
      ]
     },
     "execution_count": 66,
     "metadata": {},
     "output_type": "execute_result"
    }
   ],
   "source": [
    "dict(zip(q,z))# Convert into dictionary"
   ]
  },
  {
   "cell_type": "code",
   "execution_count": 73,
   "id": "98360325",
   "metadata": {},
   "outputs": [
    {
     "name": "stdout",
     "output_type": "stream",
     "text": [
      "How Many Information Are You Enter=4\n",
      "Enter First Name Of Student 1=Rahul\n",
      "Enter Last Name Of Student 1=Singh\n",
      "Enter Phone No. Of Student 1=9876567898\n",
      "Enter First Name Of Student 2=Rohan\n",
      "Enter Last Name Of Student 2=Sharma\n",
      "Enter Phone No. Of Student 2=9076567890\n",
      "Enter First Name Of Student 3=Karan\n",
      "Enter Last Name Of Student 3=Khanna\n",
      "Enter Phone No. Of Student 3=9876789878\n",
      "Enter First Name Of Student 4=Advik\n",
      "Enter Last Name Of Student 4=Bhargav\n",
      "Enter Phone No. Of Student 4=9876789990\n"
     ]
    }
   ],
   "source": [
    "w=1\n",
    "f=open(\"csvfile.txt\",\"w\")\n",
    "n=int(input(\"How Many Information Are You Enter=\"))\n",
    "f.write(\"First'Name,Last'Name,Phone'Number\\n\")\n",
    "for i in range(1,n+1):\n",
    "    a=input(\"Enter First Name Of Student \"+str(w)+\"=\")\n",
    "    b=input(\"Enter Last Name Of Student \"+str(w)+\"=\")\n",
    "    c=int(input(\"Enter Phone No. Of Student \"+str(w)+\"=\"))\n",
    "    w=w+1\n",
    "    d=a+\",\"+b+\",\"+str(c)\n",
    "    f.write(d+\"\\n\")\n",
    "f.close()"
   ]
  },
  {
   "cell_type": "code",
   "execution_count": 75,
   "id": "ac675274",
   "metadata": {},
   "outputs": [
    {
     "name": "stdout",
     "output_type": "stream",
     "text": [
      "  First'Name Last'Name  Phone'Number\n",
      "0      Rahul     Singh    9876567898\n",
      "1      Rohan    Sharma    9076567890\n",
      "2      Karan    Khanna    9876789878\n",
      "3      Advik   Bhargav    9876789990\n"
     ]
    }
   ],
   "source": [
    "import pandas as pd\n",
    "a=pd.read_csv(\"csvfile.txt\",sep=\",\")\n",
    "print(a)"
   ]
  },
  {
   "cell_type": "code",
   "execution_count": 12,
   "id": "0207ad27",
   "metadata": {},
   "outputs": [
    {
     "name": "stdout",
     "output_type": "stream",
     "text": [
      "1\n",
      "12\n",
      "1\n",
      "3\n",
      "1\n",
      "5\n",
      "8\n",
      "4\n"
     ]
    }
   ],
   "source": [
    "# Traverse=Meaning of traverse is fetch in the loop\n",
    "l=[1,12,1,3,1,5,8,4]\n",
    "for i in l:\n",
    "    print(i)\n"
   ]
  },
  {
   "cell_type": "markdown",
   "id": "29433812",
   "metadata": {},
   "source": [
    "# Iterator & Iterable"
   ]
  },
  {
   "cell_type": "code",
   "execution_count": 18,
   "id": "fde4830c",
   "metadata": {},
   "outputs": [
    {
     "name": "stdout",
     "output_type": "stream",
     "text": [
      "<list_iterator object at 0x000002657944E070>\n",
      "<class 'list_iterator'>\n"
     ]
    }
   ],
   "source": [
    "\n",
    "l=[1,12,1,3,1,5,8,4]\n",
    "a=iter(l)\n",
    "print(a)\n",
    "print(type(a))"
   ]
  },
  {
   "cell_type": "code",
   "execution_count": 19,
   "id": "014499cd",
   "metadata": {},
   "outputs": [
    {
     "data": {
      "text/plain": [
       "1"
      ]
     },
     "execution_count": 19,
     "metadata": {},
     "output_type": "execute_result"
    }
   ],
   "source": [
    "next(a)"
   ]
  },
  {
   "cell_type": "code",
   "execution_count": 20,
   "id": "63ed4f5a",
   "metadata": {},
   "outputs": [
    {
     "data": {
      "text/plain": [
       "12"
      ]
     },
     "execution_count": 20,
     "metadata": {},
     "output_type": "execute_result"
    }
   ],
   "source": [
    "next(a)"
   ]
  },
  {
   "cell_type": "code",
   "execution_count": 21,
   "id": "9abf67a2",
   "metadata": {},
   "outputs": [
    {
     "data": {
      "text/plain": [
       "1"
      ]
     },
     "execution_count": 21,
     "metadata": {},
     "output_type": "execute_result"
    }
   ],
   "source": [
    "next(a)"
   ]
  },
  {
   "cell_type": "code",
   "execution_count": 22,
   "id": "105f95a9",
   "metadata": {},
   "outputs": [
    {
     "data": {
      "text/plain": [
       "3"
      ]
     },
     "execution_count": 22,
     "metadata": {},
     "output_type": "execute_result"
    }
   ],
   "source": [
    "next(a)"
   ]
  },
  {
   "cell_type": "code",
   "execution_count": 23,
   "id": "2236ab2a",
   "metadata": {},
   "outputs": [
    {
     "data": {
      "text/plain": [
       "1"
      ]
     },
     "execution_count": 23,
     "metadata": {},
     "output_type": "execute_result"
    }
   ],
   "source": [
    "next(a)"
   ]
  },
  {
   "cell_type": "markdown",
   "id": "f23f7eec",
   "metadata": {},
   "source": [
    "# Generators\n",
    "# Generator use \"yield\" keyword"
   ]
  },
  {
   "cell_type": "code",
   "execution_count": 24,
   "id": "048c159d",
   "metadata": {},
   "outputs": [],
   "source": [
    "def fun(num):\n",
    "    for i in range(num):\n",
    "        yield i**2\n",
    "        print(\"Hello\")"
   ]
  },
  {
   "cell_type": "code",
   "execution_count": 25,
   "id": "b8855535",
   "metadata": {},
   "outputs": [
    {
     "data": {
      "text/plain": [
       "generator"
      ]
     },
     "execution_count": 25,
     "metadata": {},
     "output_type": "execute_result"
    }
   ],
   "source": [
    "a=fun(8)\n",
    "type(a)"
   ]
  },
  {
   "cell_type": "code",
   "execution_count": 26,
   "id": "b009679e",
   "metadata": {},
   "outputs": [
    {
     "data": {
      "text/plain": [
       "0"
      ]
     },
     "execution_count": 26,
     "metadata": {},
     "output_type": "execute_result"
    }
   ],
   "source": [
    "next(a)"
   ]
  },
  {
   "cell_type": "code",
   "execution_count": 27,
   "id": "bb0f02aa",
   "metadata": {},
   "outputs": [
    {
     "name": "stdout",
     "output_type": "stream",
     "text": [
      "Hello\n"
     ]
    },
    {
     "data": {
      "text/plain": [
       "1"
      ]
     },
     "execution_count": 27,
     "metadata": {},
     "output_type": "execute_result"
    }
   ],
   "source": [
    "next(a)"
   ]
  },
  {
   "cell_type": "code",
   "execution_count": 28,
   "id": "2d2faf1f",
   "metadata": {},
   "outputs": [
    {
     "name": "stdout",
     "output_type": "stream",
     "text": [
      "Hello\n"
     ]
    },
    {
     "data": {
      "text/plain": [
       "4"
      ]
     },
     "execution_count": 28,
     "metadata": {},
     "output_type": "execute_result"
    }
   ],
   "source": [
    "next(a)"
   ]
  },
  {
   "cell_type": "code",
   "execution_count": 29,
   "id": "9791df4f",
   "metadata": {},
   "outputs": [
    {
     "name": "stdout",
     "output_type": "stream",
     "text": [
      "Hello\n"
     ]
    },
    {
     "data": {
      "text/plain": [
       "9"
      ]
     },
     "execution_count": 29,
     "metadata": {},
     "output_type": "execute_result"
    }
   ],
   "source": [
    "next(a)"
   ]
  },
  {
   "cell_type": "code",
   "execution_count": 45,
   "id": "400aacc9",
   "metadata": {},
   "outputs": [
    {
     "name": "stdout",
     "output_type": "stream",
     "text": [
      "Hello\n",
      "\n",
      "Tushar\n"
     ]
    }
   ],
   "source": [
    "f=open(\"code1.txt\",\"r+\")\n",
    "def read(r):\n",
    "    for i in r:\n",
    "        print(i)\n",
    "read(f)"
   ]
  },
  {
   "cell_type": "code",
   "execution_count": 49,
   "id": "b7b067d3",
   "metadata": {},
   "outputs": [
    {
     "name": "stdout",
     "output_type": "stream",
     "text": [
      "<generator object read at 0x00000175B19D6200>\n"
     ]
    }
   ],
   "source": [
    "f=open(\"code1.txt\",\"r+\")\n",
    "def read(r):\n",
    "    for i in r:\n",
    "        yield i\n",
    "        print(\"Your Data:\\n\")\n",
    "        print(\"Suspend\")\n",
    "a=read(f)\n",
    "print(a)"
   ]
  },
  {
   "cell_type": "code",
   "execution_count": 50,
   "id": "b2d4b49b",
   "metadata": {},
   "outputs": [
    {
     "data": {
      "text/plain": [
       "'Hello\\n'"
      ]
     },
     "execution_count": 50,
     "metadata": {},
     "output_type": "execute_result"
    }
   ],
   "source": [
    "next(a)"
   ]
  },
  {
   "cell_type": "code",
   "execution_count": 51,
   "id": "15303329",
   "metadata": {},
   "outputs": [
    {
     "name": "stdout",
     "output_type": "stream",
     "text": [
      "Your Data:\n",
      "\n",
      "Suspend\n"
     ]
    },
    {
     "data": {
      "text/plain": [
       "'Tushar'"
      ]
     },
     "execution_count": 51,
     "metadata": {},
     "output_type": "execute_result"
    }
   ],
   "source": [
    "next(a)"
   ]
  },
  {
   "cell_type": "code",
   "execution_count": 82,
   "id": "17332101",
   "metadata": {},
   "outputs": [
    {
     "name": "stdout",
     "output_type": "stream",
     "text": [
      "<generator object num at 0x00000175B1AE3660>\n"
     ]
    }
   ],
   "source": [
    "def num(n):\n",
    "    for i in range(1,n+1):\n",
    "        yield i*i\n",
    "        print(\"Hello\")\n",
    "a=num(10)\n",
    "print(a)"
   ]
  },
  {
   "cell_type": "code",
   "execution_count": 83,
   "id": "e761b463",
   "metadata": {},
   "outputs": [
    {
     "data": {
      "text/plain": [
       "1"
      ]
     },
     "execution_count": 83,
     "metadata": {},
     "output_type": "execute_result"
    }
   ],
   "source": [
    "next(a)"
   ]
  },
  {
   "cell_type": "code",
   "execution_count": 84,
   "id": "5ad3aaf1",
   "metadata": {},
   "outputs": [
    {
     "name": "stdout",
     "output_type": "stream",
     "text": [
      "Hello\n"
     ]
    },
    {
     "data": {
      "text/plain": [
       "4"
      ]
     },
     "execution_count": 84,
     "metadata": {},
     "output_type": "execute_result"
    }
   ],
   "source": [
    "next(a)"
   ]
  },
  {
   "cell_type": "code",
   "execution_count": 70,
   "id": "c43d91fb",
   "metadata": {},
   "outputs": [
    {
     "data": {
      "text/plain": [
       "<generator object ab at 0x00000175B1AE1C10>"
      ]
     },
     "execution_count": 70,
     "metadata": {},
     "output_type": "execute_result"
    }
   ],
   "source": [
    "def ab(n):\n",
    "    for i in range(n):\n",
    "        yield i*i\n",
    "a=ab(10)\n",
    "a"
   ]
  },
  {
   "cell_type": "code",
   "execution_count": 71,
   "id": "07a718e5",
   "metadata": {},
   "outputs": [
    {
     "data": {
      "text/plain": [
       "0"
      ]
     },
     "execution_count": 71,
     "metadata": {},
     "output_type": "execute_result"
    }
   ],
   "source": [
    "next(a)"
   ]
  },
  {
   "cell_type": "code",
   "execution_count": 72,
   "id": "eb05b3a3",
   "metadata": {},
   "outputs": [
    {
     "data": {
      "text/plain": [
       "1"
      ]
     },
     "execution_count": 72,
     "metadata": {},
     "output_type": "execute_result"
    }
   ],
   "source": [
    "next(a)"
   ]
  }
 ],
 "metadata": {
  "kernelspec": {
   "display_name": "Python 3 (ipykernel)",
   "language": "python",
   "name": "python3"
  },
  "language_info": {
   "codemirror_mode": {
    "name": "ipython",
    "version": 3
   },
   "file_extension": ".py",
   "mimetype": "text/x-python",
   "name": "python",
   "nbconvert_exporter": "python",
   "pygments_lexer": "ipython3",
   "version": "3.9.12"
  }
 },
 "nbformat": 4,
 "nbformat_minor": 5
}
