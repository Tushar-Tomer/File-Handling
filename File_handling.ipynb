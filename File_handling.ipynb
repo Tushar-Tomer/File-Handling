{
 "cells": [
  {
   "cell_type": "markdown",
   "id": "473510b3",
   "metadata": {},
   "source": [
    "### File handling\n",
    "\n",
    "Files are named locations on disk to store related information. They are used to permanently store data in a non-volatile memory (e.g. hard disk).\n",
    "\n",
    "When we want to read or write to a file, we need to open it first. When we are done, it needs to be closed so that the resources that are tied with the file are freed."
   ]
  },
  {
   "cell_type": "markdown",
   "id": "f1b62646",
   "metadata": {},
   "source": [
    "File operations are :\n",
    "- open \n",
    "- read\n",
    "- write \n",
    "- others "
   ]
  },
  {
   "cell_type": "markdown",
   "id": "9cdb412e",
   "metadata": {},
   "source": [
    "Python has an in-built function called open() to open a file. It is also used to create a file as well as doing so many operations in file. It takes a minimum of one argument as mentioned in the below syntax. The open method returns a file object which is used to access the write, read and other in-built methods.\n",
    "\n",
    "Syntax:\n",
    "file_object = open(file_name, mode) \n",
    "Here, file_name is the name of the file or the location of the file that you want to open, and file_name should have the file extension included as well. \n",
    "\n",
    "Which means in test.txt – the term test is the name of the file and .txt is the extension of the file. The mode in the open function syntax will tell Python as what operation you want to do on a file. We use open () function in Python to open a file in read or write mode. As explained above, open ( ) will return a file object. To return a file object we use open() function along with two arguments, that accepts file name and the mode, whether to read or write. So, the syntax being: open(filename, mode)."
   ]
  },
  {
   "cell_type": "markdown",
   "id": "a8ac183a",
   "metadata": {},
   "source": [
    "### python file modes\n",
    "\n",
    "• ‘r' – Read Mode: Read mode is used only to read data from the file.\n",
    "\n",
    "• ‘w' – Write Mode: This mode is used when you want to write data into the file or modify it. Remember write mode overwrites the data present in the file.\n",
    "\n",
    "• ‘a' – Append Mode: Append mode is used to append data to the file. Remember data will be appended at the end of the file pointer.\n",
    "\n",
    "• ‘r+' – Read or Write Mode: This mode is used when we want to write or read the data from the same file.\n",
    "\n",
    "• ‘a+' – Append or Read Mode: This mode is used when we want to read data from the file or append the data into the same file."
   ]
  },
  {
   "cell_type": "markdown",
   "id": "e5fb951d",
   "metadata": {},
   "source": [
    "#### There are three ways in which we can read the files in python-: \n",
    "\n",
    "• read([n]) \n",
    "\n",
    "• readline([n]) \n",
    "\n",
    "• readlines() Here, n is the number of bytes to be read."
   ]
  },
  {
   "cell_type": "code",
   "execution_count": 24,
   "id": "6dea504a",
   "metadata": {},
   "outputs": [],
   "source": [
    "f=open(\"D:\\\\data_scince\\\\abc1.txt\",\"r\") ## give path name using \\\\ or / as per python format requirement.\n",
    "#print(f.read())"
   ]
  },
  {
   "cell_type": "code",
   "execution_count": 33,
   "id": "f247072c",
   "metadata": {},
   "outputs": [
    {
     "name": "stdout",
     "output_type": "stream",
     "text": [
      "\n"
     ]
    }
   ],
   "source": [
    "print(f.read(3)) # reading three characters"
   ]
  },
  {
   "cell_type": "code",
   "execution_count": 34,
   "id": "59a07f0a",
   "metadata": {},
   "outputs": [
    {
     "data": {
      "text/plain": [
       "66"
      ]
     },
     "execution_count": 34,
     "metadata": {},
     "output_type": "execute_result"
    }
   ],
   "source": [
    "f.tell() ## gives current position of pointer"
   ]
  },
  {
   "cell_type": "code",
   "execution_count": 27,
   "id": "90314bcc",
   "metadata": {},
   "outputs": [
    {
     "data": {
      "text/plain": [
       "' r u'"
      ]
     },
     "execution_count": 27,
     "metadata": {},
     "output_type": "execute_result"
    }
   ],
   "source": [
    "f.read(4) "
   ]
  },
  {
   "cell_type": "code",
   "execution_count": 28,
   "id": "6b198488",
   "metadata": {},
   "outputs": [
    {
     "data": {
      "text/plain": [
       "' balpreet111eow u ddoing??\\n\\nhows life??python hipython hi'"
      ]
     },
     "execution_count": 28,
     "metadata": {},
     "output_type": "execute_result"
    }
   ],
   "source": [
    "f.read()"
   ]
  },
  {
   "cell_type": "code",
   "execution_count": 29,
   "id": "88ecb1e8",
   "metadata": {},
   "outputs": [
    {
     "data": {
      "text/plain": [
       "''"
      ]
     },
     "execution_count": 29,
     "metadata": {},
     "output_type": "execute_result"
    }
   ],
   "source": [
    "f.read() ## reads nothing"
   ]
  },
  {
   "cell_type": "code",
   "execution_count": 30,
   "id": "951f823e",
   "metadata": {},
   "outputs": [
    {
     "data": {
      "text/plain": [
       "1"
      ]
     },
     "execution_count": 30,
     "metadata": {},
     "output_type": "execute_result"
    }
   ],
   "source": [
    "f.seek(1) ## moves file pointer to Ist place"
   ]
  },
  {
   "cell_type": "code",
   "execution_count": 31,
   "id": "ea6289e6",
   "metadata": {},
   "outputs": [
    {
     "data": {
      "text/plain": [
       "'ow r u balpreet111eow u ddoing??\\n\\nhows life??python hipython hi'"
      ]
     },
     "execution_count": 31,
     "metadata": {},
     "output_type": "execute_result"
    }
   ],
   "source": [
    "f.read() ## now reading start from ist place"
   ]
  },
  {
   "cell_type": "code",
   "execution_count": 59,
   "id": "eed83b21",
   "metadata": {},
   "outputs": [
    {
     "name": "stdout",
     "output_type": "stream",
     "text": [
      "how r u balpreet111eow u ddoing??\n",
      "\n"
     ]
    }
   ],
   "source": [
    "f=open(\"D:\\\\data_scince\\\\abc1.txt\",\"r\") \n",
    "print(f.readline())  ## reads first line by default"
   ]
  },
  {
   "cell_type": "code",
   "execution_count": 65,
   "id": "a1eeabf9",
   "metadata": {},
   "outputs": [
    {
     "name": "stdout",
     "output_type": "stream",
     "text": [
      "['how r u balpreet111eow u ddoing??\\n', '\\n', 'hows life??python hipython hi']\n",
      "hows life??python hipython hi\n"
     ]
    }
   ],
   "source": [
    "f=open(\"D:\\\\data_scince\\\\abc1.txt\",\"r\") \n",
    "a=f.readlines()## reads multiple lines in list\n",
    "print(a)\n",
    "print(a[2])   ## to read specific line"
   ]
  },
  {
   "cell_type": "code",
   "execution_count": 18,
   "id": "4fb64afa",
   "metadata": {},
   "outputs": [],
   "source": [
    "f=open(\"D:\\\\data_scince\\\\abc1.txt\",\"r\") "
   ]
  },
  {
   "cell_type": "code",
   "execution_count": 19,
   "id": "9ce85153",
   "metadata": {},
   "outputs": [
    {
     "name": "stdout",
     "output_type": "stream",
     "text": [
      "how r u balpreet111eow u ddoing??\n",
      "\n"
     ]
    }
   ],
   "source": [
    "print(f.readline())"
   ]
  },
  {
   "cell_type": "code",
   "execution_count": 20,
   "id": "46437fbb",
   "metadata": {},
   "outputs": [
    {
     "name": "stdout",
     "output_type": "stream",
     "text": [
      "\n",
      "\n"
     ]
    }
   ],
   "source": [
    "print(f.readline())"
   ]
  },
  {
   "cell_type": "markdown",
   "id": "01f9e807",
   "metadata": {},
   "source": [
    "### upper case the 2nd line "
   ]
  },
  {
   "cell_type": "code",
   "execution_count": null,
   "id": "6fbb172c",
   "metadata": {},
   "outputs": [],
   "source": []
  },
  {
   "cell_type": "code",
   "execution_count": 64,
   "id": "b00ff95f",
   "metadata": {},
   "outputs": [
    {
     "data": {
      "text/plain": [
       "'HOWS LIFE??PYTHON HIPYTHON HI'"
      ]
     },
     "execution_count": 64,
     "metadata": {},
     "output_type": "execute_result"
    }
   ],
   "source": [
    "a[2].upper()"
   ]
  },
  {
   "cell_type": "markdown",
   "id": "e5d8c02a",
   "metadata": {},
   "source": [
    "### dont want \\n as I read the content"
   ]
  },
  {
   "cell_type": "code",
   "execution_count": 111,
   "id": "5cee7832",
   "metadata": {},
   "outputs": [
    {
     "data": {
      "text/plain": [
       "['this balmeet ', 'this is balpreet ', 'this is priya']"
      ]
     },
     "execution_count": 111,
     "metadata": {},
     "output_type": "execute_result"
    }
   ],
   "source": [
    "\n",
    "b = []\n",
    "for i in a:\n",
    "    i = i.replace(\"\\n\",\"\")\n",
    "    b.append(i)\n",
    "b    "
   ]
  },
  {
   "cell_type": "code",
   "execution_count": 1,
   "id": "9b745c56",
   "metadata": {},
   "outputs": [],
   "source": [
    "f=open(\"xyz.txt\",'x')"
   ]
  },
  {
   "cell_type": "code",
   "execution_count": 2,
   "id": "87504101",
   "metadata": {},
   "outputs": [
    {
     "name": "stdout",
     "output_type": "stream",
     "text": [
      "File Name:  xyz.txt\n",
      "File Mode:  w\n",
      "Is File Readable:  False\n",
      "Is File Writable:  True\n",
      "Is File Closed :  False\n",
      "Is File Closed :  True\n"
     ]
    }
   ],
   "source": [
    "f=open(\"xyz.txt\",'w')\n",
    "print(\"File Name: \",f.name) #xyz\n",
    "print(\"File Mode: \",f.mode)# w\n",
    "print(\"Is File Readable: \",f.readable())\n",
    "print(\"Is File Writable: \",f.writable())\n",
    "print(\"Is File Closed : \",f.closed)\n",
    "f.close()\n",
    "print(\"Is File Closed : \",f.closed)"
   ]
  },
  {
   "cell_type": "markdown",
   "id": "af5e65cb",
   "metadata": {},
   "source": [
    "### loops with file traversing"
   ]
  },
  {
   "cell_type": "code",
   "execution_count": 16,
   "id": "668d1d03",
   "metadata": {},
   "outputs": [
    {
     "name": "stdout",
     "output_type": "stream",
     "text": [
      "how r u balmeet\n",
      "\n",
      "\n",
      "\n",
      "how u ddoing??\n",
      "\n",
      "\n",
      "\n",
      "hows life??\n"
     ]
    }
   ],
   "source": [
    "f=open(\"D:\\\\data_scince\\\\abc1.txt\",\"r\") \n",
    "for i in f:\n",
    "    print(i)"
   ]
  },
  {
   "cell_type": "markdown",
   "id": "bd737ea6",
   "metadata": {},
   "source": [
    "### write operation"
   ]
  },
  {
   "cell_type": "markdown",
   "id": "9cc31376",
   "metadata": {},
   "source": [
    "In order to write data into a file, we must open the file in write mode.\n",
    "\n",
    "We need to be very careful while writing data into the file as it overwrites the content present inside the file that you are writing, and all the previous data will be erased.\n",
    "\n",
    "We have two methods for writing data into a file as shown below.\n",
    "\n",
    "\n",
    "• write(string) \n",
    "\n",
    "• writelines(list)"
   ]
  },
  {
   "cell_type": "markdown",
   "id": "a130de2c",
   "metadata": {},
   "source": [
    "###  \"x \" Mode : creating a new file and open it  : "
   ]
  },
  {
   "cell_type": "code",
   "execution_count": 1,
   "id": "9012153f",
   "metadata": {},
   "outputs": [
    {
     "data": {
      "text/plain": [
       "15"
      ]
     },
     "execution_count": 1,
     "metadata": {},
     "output_type": "execute_result"
    }
   ],
   "source": [
    "f=open(\"file11.txt\",\"x\") # x mode for creating a new file : by default mode is r \n",
    "f.write(\"hello balmeet\\n \")# for writing the content(in string format) in it and it returns the total characters in it. add \\n to write the next content in next line\n",
    "f.close()  ## manadatory to give while writing"
   ]
  },
  {
   "cell_type": "markdown",
   "id": "03cf80b9",
   "metadata": {},
   "source": [
    "## \"w\" mode create the file if not exist in write mode"
   ]
  },
  {
   "cell_type": "code",
   "execution_count": 33,
   "id": "9f9da728",
   "metadata": {},
   "outputs": [
    {
     "name": "stdout",
     "output_type": "stream",
     "text": [
      "Data Written into the file successfully\n"
     ]
    }
   ],
   "source": [
    "f=open(\"fx.txt\",'w')\n",
    "f.write('Welcome\\n')\n",
    "f.write('To\\n')\n",
    "f.write('Madrid\\n')\n",
    "f.write('To')\n",
    "f.write('Software')\n",
    "print('Data Written into the file successfully')\n",
    "f.close() ## mandatory to close the file while writing"
   ]
  },
  {
   "cell_type": "code",
   "execution_count": 34,
   "id": "9fd4a32f",
   "metadata": {},
   "outputs": [
    {
     "ename": "ValueError",
     "evalue": "I/O operation on closed file.",
     "output_type": "error",
     "traceback": [
      "\u001b[1;31m---------------------------------------------------------------------------\u001b[0m",
      "\u001b[1;31mValueError\u001b[0m                                Traceback (most recent call last)",
      "Input \u001b[1;32mIn [34]\u001b[0m, in \u001b[0;36m<cell line: 1>\u001b[1;34m()\u001b[0m\n\u001b[1;32m----> 1\u001b[0m \u001b[43mf\u001b[49m\u001b[38;5;241;43m.\u001b[39;49m\u001b[43mread\u001b[49m\u001b[43m(\u001b[49m\u001b[43m)\u001b[49m\n",
      "\u001b[1;31mValueError\u001b[0m: I/O operation on closed file."
     ]
    }
   ],
   "source": [
    "f.read()"
   ]
  },
  {
   "cell_type": "code",
   "execution_count": 35,
   "id": "811bee85",
   "metadata": {},
   "outputs": [
    {
     "data": {
      "text/plain": [
       "<_io.TextIOWrapper name='fx.txt' mode='w' encoding='cp1252'>"
      ]
     },
     "execution_count": 35,
     "metadata": {},
     "output_type": "execute_result"
    }
   ],
   "source": [
    "f=open(\"fx.txt\",'w') ## open the file next time in w mode \n",
    "f"
   ]
  },
  {
   "cell_type": "code",
   "execution_count": 36,
   "id": "4a73632f",
   "metadata": {},
   "outputs": [],
   "source": [
    "f.write(\"hi python\")## this new content has been over written\n",
    "f.close()"
   ]
  },
  {
   "cell_type": "markdown",
   "id": "232205f5",
   "metadata": {},
   "source": [
    "## a mode: for apending"
   ]
  },
  {
   "cell_type": "code",
   "execution_count": 47,
   "id": "3c2eb7d9",
   "metadata": {},
   "outputs": [
    {
     "data": {
      "text/plain": [
       "<_io.TextIOWrapper name='av1.txt' mode='w' encoding='cp1252'>"
      ]
     },
     "execution_count": 47,
     "metadata": {},
     "output_type": "execute_result"
    }
   ],
   "source": [
    "f1=open(\"av1.txt\",\"w\")  ## create if not exit open the file in w\n",
    "f1"
   ]
  },
  {
   "cell_type": "code",
   "execution_count": 48,
   "id": "b43b97f7",
   "metadata": {},
   "outputs": [
    {
     "data": {
      "text/plain": [
       "0"
      ]
     },
     "execution_count": 48,
     "metadata": {},
     "output_type": "execute_result"
    }
   ],
   "source": [
    "f1.tell()"
   ]
  },
  {
   "cell_type": "code",
   "execution_count": 49,
   "id": "54934ce5",
   "metadata": {},
   "outputs": [],
   "source": [
    "f1.write(\"hello python\")\n",
    "f1.close()"
   ]
  },
  {
   "cell_type": "code",
   "execution_count": 77,
   "id": "ad7a40f7",
   "metadata": {},
   "outputs": [
    {
     "data": {
      "text/plain": [
       "<_io.TextIOWrapper name='heloz.doc' mode='w' encoding='cp1252'>"
      ]
     },
     "execution_count": 77,
     "metadata": {},
     "output_type": "execute_result"
    }
   ],
   "source": [
    "f=open(\"heloz.doc\",\"w\")\n",
    "f"
   ]
  },
  {
   "cell_type": "code",
   "execution_count": 79,
   "id": "ccdb7250",
   "metadata": {},
   "outputs": [
    {
     "data": {
      "text/plain": [
       "True"
      ]
     },
     "execution_count": 79,
     "metadata": {},
     "output_type": "execute_result"
    }
   ],
   "source": [
    "f.writable()"
   ]
  },
  {
   "cell_type": "code",
   "execution_count": 80,
   "id": "f5342bcd",
   "metadata": {},
   "outputs": [],
   "source": [
    "f.write(\"hello\")\n",
    "f.close()"
   ]
  },
  {
   "cell_type": "markdown",
   "id": "c2743d00",
   "metadata": {},
   "source": [
    "## open the file next time to update the content of avi.txt file"
   ]
  },
  {
   "cell_type": "code",
   "execution_count": 50,
   "id": "f6e7abc7",
   "metadata": {},
   "outputs": [
    {
     "data": {
      "text/plain": [
       "<_io.TextIOWrapper name='av1.txt' mode='a' encoding='cp1252'>"
      ]
     },
     "execution_count": 50,
     "metadata": {},
     "output_type": "execute_result"
    }
   ],
   "source": [
    "f1=open(\"av1.txt\",\"a\")  # open in append mode\n",
    "f1"
   ]
  },
  {
   "cell_type": "code",
   "execution_count": 52,
   "id": "36a52d9e",
   "metadata": {},
   "outputs": [
    {
     "data": {
      "text/plain": [
       "12"
      ]
     },
     "execution_count": 52,
     "metadata": {},
     "output_type": "execute_result"
    }
   ],
   "source": [
    "f1.tell()  ## always points at the end in \"a\" mode"
   ]
  },
  {
   "cell_type": "code",
   "execution_count": 53,
   "id": "a5d30d15",
   "metadata": {},
   "outputs": [],
   "source": [
    "f1.write(\"hello aviraj ..!!!\\nI love you beta\")\n",
    "f1.close()"
   ]
  },
  {
   "cell_type": "code",
   "execution_count": 54,
   "id": "50cd368d",
   "metadata": {},
   "outputs": [
    {
     "data": {
      "text/plain": [
       "<_io.TextIOWrapper name='av1.txt' mode='a' encoding='cp1252'>"
      ]
     },
     "execution_count": 54,
     "metadata": {},
     "output_type": "execute_result"
    }
   ],
   "source": [
    "f1=open(\"av1.txt\",\"a\")  \n",
    "f1"
   ]
  },
  {
   "cell_type": "code",
   "execution_count": 55,
   "id": "e9a6a979",
   "metadata": {},
   "outputs": [],
   "source": [
    "f1.writelines([\"hope u r doing good\\n\",\"I miss you \\n\"]) ## update with multifiles\n",
    "f1.close()"
   ]
  },
  {
   "cell_type": "markdown",
   "id": "83aa9216",
   "metadata": {},
   "source": [
    "## \"a+\" mode: open in read and write mode"
   ]
  },
  {
   "cell_type": "code",
   "execution_count": 56,
   "id": "7e85dcaa",
   "metadata": {},
   "outputs": [
    {
     "data": {
      "text/plain": [
       "<_io.TextIOWrapper name='av1.txt' mode='a+' encoding='cp1252'>"
      ]
     },
     "execution_count": 56,
     "metadata": {},
     "output_type": "execute_result"
    }
   ],
   "source": [
    "f1=open(\"av1.txt\",\"a+\")  # open in append mode\n",
    "f1"
   ]
  },
  {
   "cell_type": "code",
   "execution_count": 57,
   "id": "b2b53a3c",
   "metadata": {},
   "outputs": [
    {
     "data": {
      "text/plain": [
       "81"
      ]
     },
     "execution_count": 57,
     "metadata": {},
     "output_type": "execute_result"
    }
   ],
   "source": [
    "f1.tell()"
   ]
  },
  {
   "cell_type": "code",
   "execution_count": 58,
   "id": "c42b9690",
   "metadata": {},
   "outputs": [
    {
     "data": {
      "text/plain": [
       "''"
      ]
     },
     "execution_count": 58,
     "metadata": {},
     "output_type": "execute_result"
    }
   ],
   "source": [
    "f1.read()"
   ]
  },
  {
   "cell_type": "code",
   "execution_count": 59,
   "id": "d4e6f081",
   "metadata": {},
   "outputs": [
    {
     "data": {
      "text/plain": [
       "0"
      ]
     },
     "execution_count": 59,
     "metadata": {},
     "output_type": "execute_result"
    }
   ],
   "source": [
    "f1.seek(0)"
   ]
  },
  {
   "cell_type": "code",
   "execution_count": 60,
   "id": "86e248a2",
   "metadata": {},
   "outputs": [
    {
     "data": {
      "text/plain": [
       "'hello pythonhello aviraj ..!!!\\nI love you betahope u r doing good\\nI miss you \\n'"
      ]
     },
     "execution_count": 60,
     "metadata": {},
     "output_type": "execute_result"
    }
   ],
   "source": [
    "f1.read()"
   ]
  },
  {
   "cell_type": "code",
   "execution_count": 61,
   "id": "1b3dbe9e",
   "metadata": {},
   "outputs": [],
   "source": [
    "f1.write(\"what  r doing these days\") ## appended the the end\n",
    "f1.close()"
   ]
  },
  {
   "cell_type": "markdown",
   "id": "a595dbc9",
   "metadata": {},
   "source": [
    "### with open instead of open() "
   ]
  },
  {
   "cell_type": "code",
   "execution_count": 17,
   "id": "b01b9353",
   "metadata": {},
   "outputs": [
    {
     "name": "stdout",
     "output_type": "stream",
     "text": [
      "how r u balmeet\n",
      "\n",
      "how u ddoing??\n",
      "\n",
      "hows life??\n"
     ]
    }
   ],
   "source": [
    "with open(\"D:\\\\data_scince\\\\abc1.txt\") as f:  # f is alias with default read mode\n",
    "    print(f.read())"
   ]
  },
  {
   "cell_type": "markdown",
   "id": "d78c673a",
   "metadata": {},
   "source": [
    "### with open instead of open() \n",
    "writelines allow us to write multiple lines"
   ]
  },
  {
   "cell_type": "code",
   "execution_count": 18,
   "id": "0c218dca",
   "metadata": {},
   "outputs": [],
   "source": [
    "with open(\"file222.txt\",\"x\") as f:  \n",
    "    f.writelines([\"hi balmeet \\n\",\"how r u \\n\",\"what r u doing these days\\n\"]) ## it takes list of strings\n"
   ]
  },
  {
   "cell_type": "markdown",
   "id": "abaff3d7",
   "metadata": {},
   "source": [
    "### apending with multiple lines"
   ]
  },
  {
   "cell_type": "code",
   "execution_count": 19,
   "id": "0ac6c1b0",
   "metadata": {},
   "outputs": [],
   "source": [
    "with open(\"file222.txt\",\"a\") as f:  \n",
    "    f.writelines([\"we r studying python \\n\",\"what r u doing these days\"]) ## it takes list of strings writelines return nothing\n"
   ]
  },
  {
   "cell_type": "markdown",
   "id": "404d3a11",
   "metadata": {},
   "source": [
    "#### to read the line no. as per user  "
   ]
  },
  {
   "cell_type": "code",
   "execution_count": 69,
   "id": "05440065",
   "metadata": {},
   "outputs": [
    {
     "name": "stdout",
     "output_type": "stream",
     "text": [
      "enter the line you want to read :2\n",
      "how r u balpreet111eow u ddoing??\n",
      "\n"
     ]
    }
   ],
   "source": [
    "line_num=int(input(\"enter the line you want to read :\"))\n",
    "current_line=1\n",
    "with open(\"D:\\\\data_scince\\\\abc1.txt\",\"r\") as f:\n",
    "    for i in f:\n",
    "        current_line=current_line+1\n",
    "        if current_line==line_num:\n",
    "            print(i)\n",
    "            break\n",
    "        "
   ]
  },
  {
   "cell_type": "code",
   "execution_count": 129,
   "id": "0a4b79d6",
   "metadata": {},
   "outputs": [
    {
     "data": {
      "text/plain": [
       "<_io.TextIOWrapper name='filenum.txt' mode='w' encoding='cp1252'>"
      ]
     },
     "execution_count": 129,
     "metadata": {},
     "output_type": "execute_result"
    }
   ],
   "source": [
    "f=open(\"filenum.txt\",\"w\")\n",
    "f"
   ]
  },
  {
   "cell_type": "code",
   "execution_count": 130,
   "id": "223b0026",
   "metadata": {},
   "outputs": [],
   "source": [
    "f.write(\"python is mandataory course\\n\")\n",
    "f.write(\"python is boring\\n\")\n",
    "f.write(\"python is interesting\\n\")\n",
    "f.write(\"python is base language for data science\\n\")\n",
    "f.write(\"python is most demanding langauge\")\n",
    "f.close()"
   ]
  },
  {
   "cell_type": "code",
   "execution_count": 133,
   "id": "d89df5ae",
   "metadata": {},
   "outputs": [
    {
     "name": "stdout",
     "output_type": "stream",
     "text": [
      "enter the line number3\n",
      "python is interesting\n",
      "\n"
     ]
    }
   ],
   "source": [
    "linenumber=int(input(\"enter the line number\"))\n",
    "ln=0\n",
    "f= open(\"filenum.txt\",\"r\")\n",
    "for i in f:\n",
    "    ln=ln+1\n",
    "    if ln==linenumber:\n",
    "        print(i)\n",
    "        break\n",
    "    "
   ]
  },
  {
   "cell_type": "markdown",
   "id": "77433fe2",
   "metadata": {},
   "source": [
    "##### WAP to create a file Sports.txt write five sports personalities to that file and read the content as a list\n"
   ]
  },
  {
   "cell_type": "code",
   "execution_count": null,
   "id": "4b3e3ffd",
   "metadata": {},
   "outputs": [],
   "source": []
  },
  {
   "cell_type": "code",
   "execution_count": 50,
   "id": "df4843a9",
   "metadata": {},
   "outputs": [
    {
     "name": "stdout",
     "output_type": "stream",
     "text": [
      "enter the sportsmansachin\n",
      "enter the sportsmanraj\n",
      "enter the sportsmanraju\n",
      "enter the sportsmanbba\n",
      "enter the sportsmannna\n"
     ]
    }
   ],
   "source": [
    "f=open(\"sports71.txt\",\"x\")\n",
    "for i in range(0,5):\n",
    "    f.write(input(\"enter the sportsman\"))\n",
    "    f.write(\"\\n\")\n",
    "    \n"
   ]
  },
  {
   "cell_type": "code",
   "execution_count": 53,
   "id": "f5696777",
   "metadata": {},
   "outputs": [
    {
     "name": "stdout",
     "output_type": "stream",
     "text": [
      "['sachin', 'raj', 'raju', 'bba', 'nna']\n"
     ]
    }
   ],
   "source": [
    "l=[]\n",
    "l1=[]\n",
    "f=open(\"sports71.txt\",\"r\")\n",
    "l=f.readlines()  ### reads all the lines in list \n",
    "for ch in l:\n",
    "    ch1=ch.rstrip(\"\\n\")\n",
    "    l1.append(ch1)\n",
    "print(l1)"
   ]
  },
  {
   "cell_type": "markdown",
   "id": "c115cee7",
   "metadata": {},
   "source": [
    "### r+,a+ and w+\n",
    "\n",
    "here + means opens the file in read and write mode both"
   ]
  },
  {
   "cell_type": "markdown",
   "id": "4c15431e",
   "metadata": {},
   "source": [
    "### Difference between r and r+ in open()"
   ]
  },
  {
   "cell_type": "code",
   "execution_count": 113,
   "id": "49cb5e16",
   "metadata": {},
   "outputs": [
    {
     "name": "stdout",
     "output_type": "stream",
     "text": [
      "welcome to python core\n",
      "welcome to file handling\n",
      "welcome to last topic\n",
      "welcome to file operations\n"
     ]
    }
   ],
   "source": [
    "f=open(\"D:\\\\data_scince\\\\filemode.txt\",\"r\")\n",
    "print(f.read())"
   ]
  },
  {
   "cell_type": "markdown",
   "id": "ff672a10",
   "metadata": {},
   "source": [
    "In r mode, if we write the file, Python throws io.UnsupportedOperation: not writable"
   ]
  },
  {
   "cell_type": "code",
   "execution_count": 114,
   "id": "6ed0fe34",
   "metadata": {},
   "outputs": [
    {
     "ename": "UnsupportedOperation",
     "evalue": "not writable",
     "output_type": "error",
     "traceback": [
      "\u001b[1;31m---------------------------------------------------------------------------\u001b[0m",
      "\u001b[1;31mUnsupportedOperation\u001b[0m                      Traceback (most recent call last)",
      "Input \u001b[1;32mIn [114]\u001b[0m, in \u001b[0;36m<cell line: 2>\u001b[1;34m()\u001b[0m\n\u001b[0;32m      1\u001b[0m f\u001b[38;5;241m=\u001b[39m\u001b[38;5;28mopen\u001b[39m(\u001b[38;5;124m\"\u001b[39m\u001b[38;5;124mD:\u001b[39m\u001b[38;5;130;01m\\\\\u001b[39;00m\u001b[38;5;124mdata_scince\u001b[39m\u001b[38;5;130;01m\\\\\u001b[39;00m\u001b[38;5;124mfilemode.txt\u001b[39m\u001b[38;5;124m\"\u001b[39m,\u001b[38;5;124m\"\u001b[39m\u001b[38;5;124mr\u001b[39m\u001b[38;5;124m\"\u001b[39m)\n\u001b[1;32m----> 2\u001b[0m \u001b[43mf\u001b[49m\u001b[38;5;241;43m.\u001b[39;49m\u001b[43mwrite\u001b[49m\u001b[43m(\u001b[49m\u001b[38;5;124;43m\"\u001b[39;49m\u001b[38;5;124;43mtest\u001b[39;49m\u001b[38;5;124;43m\"\u001b[39;49m\u001b[43m)\u001b[49m\n",
      "\u001b[1;31mUnsupportedOperation\u001b[0m: not writable"
     ]
    }
   ],
   "source": [
    "f=open(\"D:\\\\data_scince\\\\filemode.txt\",\"r\")\n",
    "f.write(\"test\")"
   ]
  },
  {
   "cell_type": "markdown",
   "id": "81a0c837",
   "metadata": {},
   "source": [
    "### Read and write a file with r+\n",
    "In r+ mode, we can read and write the file, but the file pointer position is at the beginning of the file; if we write the file directly, it will overwrite the beginning content."
   ]
  },
  {
   "cell_type": "code",
   "execution_count": 120,
   "id": "36b3e4dd",
   "metadata": {},
   "outputs": [
    {
     "data": {
      "text/plain": [
       "<_io.TextIOWrapper name='D:\\\\data_scince\\\\filemode.txt' mode='r+' encoding='cp1252'>"
      ]
     },
     "execution_count": 120,
     "metadata": {},
     "output_type": "execute_result"
    }
   ],
   "source": [
    "f=open(\"D:\\\\data_scince\\\\filemode.txt\",\"r+\")\n",
    "f   "
   ]
  },
  {
   "cell_type": "code",
   "execution_count": 121,
   "id": "5dd12732",
   "metadata": {},
   "outputs": [
    {
     "data": {
      "text/plain": [
       "0"
      ]
     },
     "execution_count": 121,
     "metadata": {},
     "output_type": "execute_result"
    }
   ],
   "source": [
    "f.tell()"
   ]
  },
  {
   "cell_type": "code",
   "execution_count": 122,
   "id": "c38fad99",
   "metadata": {},
   "outputs": [
    {
     "data": {
      "text/plain": [
       "'test1me to python core\\nwelcome to file handling\\nwelcome to last topic\\nwelcome to file operations44444444hellohello'"
      ]
     },
     "execution_count": 122,
     "metadata": {},
     "output_type": "execute_result"
    }
   ],
   "source": [
    "f.read()"
   ]
  },
  {
   "cell_type": "code",
   "execution_count": 123,
   "id": "7a06e018",
   "metadata": {},
   "outputs": [
    {
     "data": {
      "text/plain": [
       "117"
      ]
     },
     "execution_count": 123,
     "metadata": {},
     "output_type": "execute_result"
    }
   ],
   "source": [
    "f.tell()"
   ]
  },
  {
   "cell_type": "code",
   "execution_count": 124,
   "id": "0c7a610a",
   "metadata": {},
   "outputs": [],
   "source": [
    "f.write(\"batch 10:30\")\n",
    "f.close()"
   ]
  },
  {
   "cell_type": "code",
   "execution_count": 125,
   "id": "ccc668ab",
   "metadata": {},
   "outputs": [
    {
     "data": {
      "text/plain": [
       "<_io.TextIOWrapper name='D:\\\\data_scince\\\\filemode.txt' mode='r+' encoding='cp1252'>"
      ]
     },
     "execution_count": 125,
     "metadata": {},
     "output_type": "execute_result"
    }
   ],
   "source": [
    "f=open(\"D:\\\\data_scince\\\\filemode.txt\",\"r+\")\n",
    "f "
   ]
  },
  {
   "cell_type": "code",
   "execution_count": 126,
   "id": "f0b909fc",
   "metadata": {},
   "outputs": [
    {
     "data": {
      "text/plain": [
       "5"
      ]
     },
     "execution_count": 126,
     "metadata": {},
     "output_type": "execute_result"
    }
   ],
   "source": [
    "f.seek(5)"
   ]
  },
  {
   "cell_type": "code",
   "execution_count": 127,
   "id": "9626f808",
   "metadata": {},
   "outputs": [],
   "source": [
    "f.write(\"data science batch\")\n",
    "f.close()"
   ]
  },
  {
   "cell_type": "code",
   "execution_count": null,
   "id": "62a7445e",
   "metadata": {},
   "outputs": [],
   "source": []
  },
  {
   "cell_type": "markdown",
   "id": "9e063dc0",
   "metadata": {},
   "source": [
    "## a+ mode : is for both read and write (update the content( file pointers point to end)"
   ]
  },
  {
   "cell_type": "markdown",
   "id": "923a62bf",
   "metadata": {},
   "source": [
    "## case 1 : first write then read"
   ]
  },
  {
   "cell_type": "code",
   "execution_count": 20,
   "id": "7ad2b83e",
   "metadata": {},
   "outputs": [
    {
     "data": {
      "text/plain": [
       "11"
      ]
     },
     "execution_count": 20,
     "metadata": {},
     "output_type": "execute_result"
    }
   ],
   "source": [
    "##create the file first\n",
    "f=open(\"fil33.txt\",\"x\")\n",
    "f.write(\"core python\")"
   ]
  },
  {
   "cell_type": "code",
   "execution_count": 22,
   "id": "d171f8dd",
   "metadata": {},
   "outputs": [
    {
     "name": "stdout",
     "output_type": "stream",
     "text": [
      "11\n"
     ]
    }
   ],
   "source": [
    "f=open(\"fil33.txt\",\"a+\")\n",
    "print(f.tell())"
   ]
  },
  {
   "cell_type": "code",
   "execution_count": 23,
   "id": "6f57ebd9",
   "metadata": {},
   "outputs": [
    {
     "name": "stdout",
     "output_type": "stream",
     "text": [
      "\n"
     ]
    }
   ],
   "source": [
    "print(f.read()) ## return nothing"
   ]
  },
  {
   "cell_type": "code",
   "execution_count": 25,
   "id": "9d6527c4",
   "metadata": {},
   "outputs": [
    {
     "name": "stdout",
     "output_type": "stream",
     "text": [
      "12\n",
      "35\n"
     ]
    }
   ],
   "source": [
    "print(f.write(\"hello python\"))\n",
    "print(f.tell())"
   ]
  },
  {
   "cell_type": "markdown",
   "id": "b3c8960a",
   "metadata": {},
   "source": [
    "## case 2 : first read then write"
   ]
  },
  {
   "cell_type": "code",
   "execution_count": 28,
   "id": "ad463abd",
   "metadata": {},
   "outputs": [
    {
     "name": "stdout",
     "output_type": "stream",
     "text": [
      "python hi\n"
     ]
    }
   ],
   "source": [
    "##create the file first\n",
    "f=open(\"D:\\\\data_scince\\\\abc1.txt\",\"a+\") ## it appends the the lines at end\n",
    "print(f.read())\n",
    "f.write(\"python hi\")\n",
    "for i in f:\n",
    "    print(i)"
   ]
  },
  {
   "cell_type": "code",
   "execution_count": 30,
   "id": "975a1766",
   "metadata": {},
   "outputs": [
    {
     "name": "stdout",
     "output_type": "stream",
     "text": [
      "how r u balmeet\n",
      "\n",
      "\n",
      "\n",
      "how u ddoing??\n",
      "\n",
      "\n",
      "\n",
      "hows life??python hipython hi\n"
     ]
    }
   ],
   "source": [
    "##to read the whole content open the file in append mode.\n",
    "f=open(\"D:\\\\data_scince\\\\abc1.txt\",\"r\") ## it appends the the lines at end\n",
    "for i in f:\n",
    "    print(i)"
   ]
  },
  {
   "cell_type": "markdown",
   "id": "f50b6b8f",
   "metadata": {},
   "source": [
    "## r+ mode : is for both read and write (update the content( file pointers point to begining)"
   ]
  },
  {
   "cell_type": "code",
   "execution_count": 46,
   "id": "eecf83bc",
   "metadata": {},
   "outputs": [
    {
     "name": "stdout",
     "output_type": "stream",
     "text": [
      "17\n"
     ]
    }
   ],
   "source": [
    "f=open(\"p111.txt\",\"x\") \n",
    "print(f.write(\"hello hi how r u \"))   "
   ]
  },
  {
   "cell_type": "code",
   "execution_count": 48,
   "id": "32a48ada",
   "metadata": {},
   "outputs": [
    {
     "name": "stdout",
     "output_type": "stream",
     "text": [
      "7\n"
     ]
    }
   ],
   "source": [
    "f=open(\"p111.txt\",\"r+\") \n",
    "print(f.write(\"balmeet\"))   ## here it writes the content from begining\n"
   ]
  },
  {
   "cell_type": "code",
   "execution_count": 49,
   "id": "8786ab40",
   "metadata": {},
   "outputs": [
    {
     "name": "stdout",
     "output_type": "stream",
     "text": [
      "i how r u \n"
     ]
    }
   ],
   "source": [
    "\n",
    "print(f.read())   ## here it reads the code from the last resume pointer else by default from begning\n"
   ]
  },
  {
   "cell_type": "markdown",
   "id": "e4be7222",
   "metadata": {},
   "source": [
    "##### wap to read corresponding lines of both the files "
   ]
  },
  {
   "cell_type": "code",
   "execution_count": 97,
   "id": "65a54e18",
   "metadata": {},
   "outputs": [
    {
     "name": "stdout",
     "output_type": "stream",
     "text": [
      "hi balmeet \n",
      "how r u \n",
      "what r u doing these days\n",
      "\n"
     ]
    }
   ],
   "source": [
    "f1=open(\"bcd.txt\",\"r\")\n",
    "print(f1.read())"
   ]
  },
  {
   "cell_type": "code",
   "execution_count": 98,
   "id": "5159f403",
   "metadata": {},
   "outputs": [
    {
     "name": "stdout",
     "output_type": "stream",
     "text": [
      "dhoni\n",
      "virat\n",
      "sachin\n",
      "sania mirza\n",
      "pv sindhu\n",
      "\n"
     ]
    }
   ],
   "source": [
    "f1=open(\"sports7.txt\",\"r\")\n",
    "print(f1.read())"
   ]
  },
  {
   "cell_type": "code",
   "execution_count": 55,
   "id": "f6b7b4eb",
   "metadata": {},
   "outputs": [
    {
     "name": "stdout",
     "output_type": "stream",
     "text": [
      "['hi balmeet \\n', 'how r u \\n', 'what r u doing these days\\n']\n",
      "['dhoni\\n', 'virat\\n', 'sachin\\n', 'sania mirza\\n', 'pv sindhu\\n']\n"
     ]
    },
    {
     "data": {
      "text/plain": [
       "{'hi balmeet \\n': 'dhoni\\n',\n",
       " 'how r u \\n': 'virat\\n',\n",
       " 'what r u doing these days\\n': 'sachin\\n'}"
      ]
     },
     "execution_count": 55,
     "metadata": {},
     "output_type": "execute_result"
    }
   ],
   "source": [
    "f1=open(\"bcd.txt\",\"r\")\n",
    "f2=open(\"sports7.txt\",\"r\")\n",
    "l1=f1.readlines()\n",
    "print(l1)\n",
    "\n",
    "print(l2)\n",
    "l2=f2.readlines()\n",
    "dict(zip(l1,l2))\n"
   ]
  },
  {
   "cell_type": "code",
   "execution_count": 107,
   "id": "f18668f1",
   "metadata": {},
   "outputs": [
    {
     "name": "stdout",
     "output_type": "stream",
     "text": [
      "7\n",
      "Hello \n",
      "This is Delhi \n",
      "This is Paris \n",
      "This is London \n",
      "Today\n"
     ]
    }
   ],
   "source": [
    "L = [\"This is Delhi \\n\", \"This is Paris \\n\", \"This is London \\n\"]\n",
    "\n",
    "with open('4class.txt','x') as file1:\n",
    "    print(file1.write('Hello \\n'))\n",
    "\n",
    "with open(\"4class.txt\", \"a\") as file1:\n",
    "    # Writing data to a file\n",
    "#     file1.write(\"Hello \\n\")\n",
    "    file1.writelines(L)\n",
    "    \n",
    "# Appending to file\n",
    "with open(\"4class.txt\", 'a') as file1:\n",
    "    file1.write(\"Today\")\n",
    "  \n",
    "  \n",
    "# Reading from file\n",
    "with open(\"4class.txt\", \"r\") as file1:\n",
    "    # Reading form a file\n",
    "    print(file1.read())\n"
   ]
  },
  {
   "cell_type": "markdown",
   "id": "d40d6f1f",
   "metadata": {},
   "source": [
    "### wap count the frequency of each word in file "
   ]
  },
  {
   "cell_type": "code",
   "execution_count": 2,
   "id": "70ed20ed",
   "metadata": {},
   "outputs": [
    {
     "data": {
      "text/plain": [
       "'hello\\nbalmeet\\nhow r u\\nbalmeet wat r u doing?'"
      ]
     },
     "execution_count": 2,
     "metadata": {},
     "output_type": "execute_result"
    }
   ],
   "source": [
    "f1=open(\"D:\\\\python_datascience\\\\file1.txt\",\"r\")\n",
    "f1.read()"
   ]
  },
  {
   "cell_type": "code",
   "execution_count": 7,
   "id": "bbaf9ef4",
   "metadata": {},
   "outputs": [],
   "source": [
    "f1=open(\"D:\\\\python_datascience\\\\file1.txt\",\"r\")"
   ]
  },
  {
   "cell_type": "code",
   "execution_count": 4,
   "id": "2ea761f6",
   "metadata": {},
   "outputs": [
    {
     "name": "stdout",
     "output_type": "stream",
     "text": [
      "hello\n",
      "\n",
      "balmeet\n",
      "\n",
      "how r u\n",
      "\n",
      "balmeet wat r u doing?\n"
     ]
    }
   ],
   "source": [
    "for i in f1:\n",
    "    print(i)"
   ]
  },
  {
   "cell_type": "code",
   "execution_count": 8,
   "id": "7c4457c9",
   "metadata": {},
   "outputs": [],
   "source": [
    "l=[]\n",
    "for i in f1:\n",
    "    l.append(i)\n"
   ]
  },
  {
   "cell_type": "code",
   "execution_count": 9,
   "id": "92d2329c",
   "metadata": {},
   "outputs": [
    {
     "data": {
      "text/plain": [
       "['hello\\n', 'balmeet\\n', 'how r u\\n', 'balmeet wat r u doing?']"
      ]
     },
     "execution_count": 9,
     "metadata": {},
     "output_type": "execute_result"
    }
   ],
   "source": [
    "l"
   ]
  },
  {
   "cell_type": "code",
   "execution_count": 10,
   "id": "4c1392ca",
   "metadata": {},
   "outputs": [
    {
     "name": "stdout",
     "output_type": "stream",
     "text": [
      "[['hello\\n'], ['balmeet\\n'], ['how', 'r', 'u\\n'], ['balmeet', 'wat', 'r', 'u', 'doing?']]\n"
     ]
    }
   ],
   "source": [
    "l1=[]\n",
    "for j in l:\n",
    "    l1.append(j.split(\" \"))\n",
    "print(l1)\n",
    "\n",
    "    "
   ]
  },
  {
   "cell_type": "code",
   "execution_count": 11,
   "id": "f7ce442d",
   "metadata": {},
   "outputs": [
    {
     "name": "stdout",
     "output_type": "stream",
     "text": [
      "['hello\\n', 'balmeet\\n', 'how', 'r', 'u\\n', 'balmeet', 'wat', 'r', 'u', 'doing?']\n"
     ]
    }
   ],
   "source": [
    "ll=[]\n",
    "for k in l1:\n",
    "    for k1 in k:\n",
    "        ll.append(k1)\n",
    "print(ll)"
   ]
  },
  {
   "cell_type": "code",
   "execution_count": 14,
   "id": "7aee150a",
   "metadata": {},
   "outputs": [
    {
     "data": {
      "text/plain": [
       "['hello', 'balmeet', 'how', 'r', 'u', 'balmeet', 'wat', 'r', 'u', 'doing?']"
      ]
     },
     "execution_count": 14,
     "metadata": {},
     "output_type": "execute_result"
    }
   ],
   "source": [
    "lll=[]\n",
    "for i in ll:\n",
    "    s=i.replace(\"\\n\",\"\")\n",
    "    lll.append(s)\n",
    "lll"
   ]
  },
  {
   "cell_type": "code",
   "execution_count": 15,
   "id": "61e32244",
   "metadata": {},
   "outputs": [
    {
     "name": "stdout",
     "output_type": "stream",
     "text": [
      "Counter({'balmeet': 2, 'r': 2, 'u': 2, 'hello': 1, 'how': 1, 'wat': 1, 'doing?': 1})\n"
     ]
    }
   ],
   "source": [
    "from collections import Counter\n",
    "print(Counter(lll))"
   ]
  },
  {
   "cell_type": "markdown",
   "id": "27a69f01",
   "metadata": {},
   "source": [
    "## wap to add the course name if that course name is not present the file "
   ]
  },
  {
   "cell_type": "code",
   "execution_count": 28,
   "id": "d47a7ceb",
   "metadata": {},
   "outputs": [
    {
     "data": {
      "text/plain": [
       "<_io.TextIOWrapper name='D:\\\\python_datascience\\\\course.txt' mode='r+' encoding='cp1252'>"
      ]
     },
     "execution_count": 28,
     "metadata": {},
     "output_type": "execute_result"
    }
   ],
   "source": [
    "f=open(\"D:\\\\python_datascience\\\\course.txt\",\"r+\")\n",
    "f"
   ]
  },
  {
   "cell_type": "code",
   "execution_count": 26,
   "id": "1c71d121",
   "metadata": {},
   "outputs": [
    {
     "data": {
      "text/plain": [
       "'c language\\n\\ndata analytics\\nbusiness analytics\\npython'"
      ]
     },
     "execution_count": 26,
     "metadata": {},
     "output_type": "execute_result"
    }
   ],
   "source": [
    "f.read()"
   ]
  },
  {
   "cell_type": "code",
   "execution_count": 29,
   "id": "f55fabaf",
   "metadata": {},
   "outputs": [
    {
     "name": "stdout",
     "output_type": "stream",
     "text": [
      "enter the course you want to addbusiness analytics\\n\n",
      "course is added\n"
     ]
    }
   ],
   "source": [
    "c=input(\"enter the course you want to add\")\n",
    "c=c+\"\\n\"\n",
    "course_list=f.readlines()\n",
    "if c in course_list:\n",
    "    print(\"course is already present\")\n",
    "else:\n",
    "    f.seek(0)\n",
    "    f.write(c)\n",
    "    print(\"course is added\")\n",
    "f.close()\n",
    "    \n",
    "    "
   ]
  },
  {
   "cell_type": "markdown",
   "id": "656de471",
   "metadata": {},
   "source": []
  },
  {
   "cell_type": "code",
   "execution_count": 71,
   "id": "401c184d",
   "metadata": {},
   "outputs": [
    {
     "data": {
      "text/plain": [
       "25"
      ]
     },
     "execution_count": 71,
     "metadata": {},
     "output_type": "execute_result"
    }
   ],
   "source": [
    "from collections import Counter\n",
    "f=open(\"demo1.txt\",\"x\")\n",
    "f.write(\"hello \\n how r u \\n balmeet\")\n",
    "\n",
    "#c = Counter(f.read().split())\n",
    "   # print(c)"
   ]
  },
  {
   "cell_type": "code",
   "execution_count": 77,
   "id": "7bfc77a5",
   "metadata": {},
   "outputs": [
    {
     "name": "stdout",
     "output_type": "stream",
     "text": [
      "hello \n",
      " how r u \n",
      " balmeet\n"
     ]
    }
   ],
   "source": [
    "f=open(\"demo1.txt\",\"r\")\n",
    "print(f.read())"
   ]
  },
  {
   "cell_type": "code",
   "execution_count": 79,
   "id": "786f5d9a",
   "metadata": {},
   "outputs": [
    {
     "name": "stdout",
     "output_type": "stream",
     "text": [
      "hello \n",
      "\n",
      " how r u \n",
      "\n",
      " balmeet\n"
     ]
    }
   ],
   "source": [
    "from collections import Counter\n",
    "f=open(\"demo1.txt\",\"r\")\n",
    "for i in f:\n",
    "    print(i)"
   ]
  },
  {
   "cell_type": "code",
   "execution_count": 80,
   "id": "1c69fe86",
   "metadata": {},
   "outputs": [
    {
     "name": "stdout",
     "output_type": "stream",
     "text": [
      "Counter({'l': 2, 'h': 1, 'e': 1, 'o': 1, ' ': 1, '\\n': 1})\n",
      "Counter({' ': 4, 'h': 1, 'o': 1, 'w': 1, 'r': 1, 'u': 1, '\\n': 1})\n",
      "Counter({'e': 2, ' ': 1, 'b': 1, 'a': 1, 'l': 1, 'm': 1, 't': 1})\n"
     ]
    }
   ],
   "source": [
    "from collections import Counter\n",
    "f=open(\"demo1.txt\",\"r\")\n",
    "for i in f:\n",
    "    print(Counter(i))"
   ]
  },
  {
   "cell_type": "code",
   "execution_count": null,
   "id": "bd364986",
   "metadata": {},
   "outputs": [],
   "source": [
    "AP to create a file called sports and write five sports personalities to it.if the sports personality length is greater than 10 then we need to append that in new list."
   ]
  },
  {
   "cell_type": "code",
   "execution_count": 81,
   "id": "2ed62953",
   "metadata": {},
   "outputs": [],
   "source": [
    "with open(\"sports111.txt\",\"x\") as f:\n",
    "    f.writelines([\"Virat \\n\",\"Tendulkar \\n\",\"Neeraj Chopra \\n\",\"Mary kom \\n\",\"babita Phogat \\n\"])"
   ]
  },
  {
   "cell_type": "code",
   "execution_count": 82,
   "id": "636cca57",
   "metadata": {},
   "outputs": [
    {
     "name": "stdout",
     "output_type": "stream",
     "text": [
      "['Tendulkar \\n', 'Neeraj Chopra \\n', 'babita Phogat \\n']\n"
     ]
    }
   ],
   "source": [
    "with open('sports111.txt','r') as f:\n",
    "    l  = f.readlines()\n",
    "#print(l)\n",
    "l1 = []\n",
    "for i in l:\n",
    "    if len(i)>10:\n",
    "        l1.append(i)\n",
    "print(l1)"
   ]
  },
  {
   "cell_type": "markdown",
   "id": "2508b090",
   "metadata": {},
   "source": [
    "### To count the number of lines in a text file "
   ]
  },
  {
   "cell_type": "code",
   "execution_count": 64,
   "id": "68bd8f9d",
   "metadata": {},
   "outputs": [
    {
     "data": {
      "text/plain": [
       "<_io.TextIOWrapper name='count1,txt' mode='w' encoding='cp1252'>"
      ]
     },
     "execution_count": 64,
     "metadata": {},
     "output_type": "execute_result"
    }
   ],
   "source": [
    "f=open(\"count1,txt\",\"w\")\n",
    "f"
   ]
  },
  {
   "cell_type": "code",
   "execution_count": 65,
   "id": "36eae74b",
   "metadata": {},
   "outputs": [],
   "source": [
    "f.write(\"hello\\n hi how r\\n balmeet\")\n",
    "f.close()"
   ]
  },
  {
   "cell_type": "code",
   "execution_count": 66,
   "id": "7552468d",
   "metadata": {},
   "outputs": [
    {
     "data": {
      "text/plain": [
       "<_io.TextIOWrapper name='count1,txt' mode='r+' encoding='cp1252'>"
      ]
     },
     "execution_count": 66,
     "metadata": {},
     "output_type": "execute_result"
    }
   ],
   "source": [
    "f=open(\"count1,txt\",\"r+\")\n",
    "f"
   ]
  },
  {
   "cell_type": "code",
   "execution_count": 67,
   "id": "7cd775c6",
   "metadata": {},
   "outputs": [
    {
     "data": {
      "text/plain": [
       "0"
      ]
     },
     "execution_count": 67,
     "metadata": {},
     "output_type": "execute_result"
    }
   ],
   "source": [
    "f.tell()"
   ]
  },
  {
   "cell_type": "code",
   "execution_count": 68,
   "id": "1740402a",
   "metadata": {},
   "outputs": [
    {
     "data": {
      "text/plain": [
       "'hello\\n hi how r\\n balmeet'"
      ]
     },
     "execution_count": 68,
     "metadata": {},
     "output_type": "execute_result"
    }
   ],
   "source": [
    "f.read()"
   ]
  },
  {
   "cell_type": "code",
   "execution_count": 69,
   "id": "ac1e2b46",
   "metadata": {},
   "outputs": [
    {
     "data": {
      "text/plain": [
       "26"
      ]
     },
     "execution_count": 69,
     "metadata": {},
     "output_type": "execute_result"
    }
   ],
   "source": [
    "f.tell()"
   ]
  },
  {
   "cell_type": "code",
   "execution_count": 70,
   "id": "54af06ba",
   "metadata": {},
   "outputs": [
    {
     "data": {
      "text/plain": [
       "''"
      ]
     },
     "execution_count": 70,
     "metadata": {},
     "output_type": "execute_result"
    }
   ],
   "source": [
    "f.read()"
   ]
  },
  {
   "cell_type": "code",
   "execution_count": 71,
   "id": "c2a94aed",
   "metadata": {},
   "outputs": [
    {
     "data": {
      "text/plain": [
       "0"
      ]
     },
     "execution_count": 71,
     "metadata": {},
     "output_type": "execute_result"
    }
   ],
   "source": [
    "f.seek(0)\n"
   ]
  },
  {
   "cell_type": "code",
   "execution_count": 75,
   "id": "c97ab1d7",
   "metadata": {},
   "outputs": [
    {
     "data": {
      "text/plain": [
       "<_io.TextIOWrapper name='count1,txt' mode='r+' encoding='cp1252'>"
      ]
     },
     "execution_count": 75,
     "metadata": {},
     "output_type": "execute_result"
    }
   ],
   "source": [
    "f=open(\"count1,txt\",\"r+\")\n",
    "f"
   ]
  },
  {
   "cell_type": "code",
   "execution_count": 76,
   "id": "1bcab6cd",
   "metadata": {},
   "outputs": [
    {
     "name": "stdout",
     "output_type": "stream",
     "text": [
      "hello\n",
      "\n",
      " hi how r\n",
      "\n",
      " balmeet\n",
      "3\n"
     ]
    }
   ],
   "source": [
    "c=0\n",
    "for i in f:\n",
    "    print(i)\n",
    "    c=c+1\n",
    "print(c)"
   ]
  },
  {
   "cell_type": "markdown",
   "id": "4bcb08cb",
   "metadata": {},
   "source": [
    "### Write a Python program to count the frequency of words in a file."
   ]
  },
  {
   "cell_type": "code",
   "execution_count": null,
   "id": "d1b7290a",
   "metadata": {},
   "outputs": [],
   "source": []
  },
  {
   "cell_type": "code",
   "execution_count": 97,
   "id": "3f66e189",
   "metadata": {},
   "outputs": [
    {
     "data": {
      "text/plain": [
       "45"
      ]
     },
     "execution_count": 97,
     "metadata": {},
     "output_type": "execute_result"
    }
   ],
   "source": [
    "f=open(\"demo3.txt\",\"x\")\n",
    "f.write(\"this balmeet \\nthis is balpreet \\nthis is priya\")"
   ]
  },
  {
   "cell_type": "code",
   "execution_count": 98,
   "id": "fbabcd76",
   "metadata": {},
   "outputs": [
    {
     "data": {
      "text/plain": [
       "'this balmeet \\nthis is balpreet \\nthis is priya'"
      ]
     },
     "execution_count": 98,
     "metadata": {},
     "output_type": "execute_result"
    }
   ],
   "source": [
    "f=open(\"demo3.txt\",\"r\")\n",
    "f.read()"
   ]
  },
  {
   "cell_type": "code",
   "execution_count": 99,
   "id": "f45b7346",
   "metadata": {},
   "outputs": [
    {
     "data": {
      "text/plain": [
       "'this balmeet \\n'"
      ]
     },
     "execution_count": 99,
     "metadata": {},
     "output_type": "execute_result"
    }
   ],
   "source": [
    "f=open(\"demo3.txt\",\"r\")\n",
    "f.readline()"
   ]
  },
  {
   "cell_type": "code",
   "execution_count": 100,
   "id": "0d77abfc",
   "metadata": {},
   "outputs": [
    {
     "data": {
      "text/plain": [
       "['this balmeet \\n', 'this is balpreet \\n', 'this is priya']"
      ]
     },
     "execution_count": 100,
     "metadata": {},
     "output_type": "execute_result"
    }
   ],
   "source": [
    "f=open(\"demo3.txt\",\"r\")\n",
    "a=f.readlines()\n",
    "a"
   ]
  },
  {
   "cell_type": "code",
   "execution_count": 165,
   "id": "03d48034",
   "metadata": {},
   "outputs": [
    {
     "name": "stdout",
     "output_type": "stream",
     "text": [
      "enter the contenthello python \n",
      "enter the contenthi python\n",
      "enter the contentpython data science\n",
      "enter the contentdata dataanalytics\n"
     ]
    }
   ],
   "source": [
    "f=open(\"count.txt\",\"w\")\n",
    "for i in range(1,5):\n",
    "    c=input(\"enter the content\")\n",
    "    f.write(c)\n",
    "    f.write(\"\\n\")\n",
    "f.close()"
   ]
  },
  {
   "cell_type": "code",
   "execution_count": 166,
   "id": "0e1c939e",
   "metadata": {},
   "outputs": [],
   "source": [
    "f=open(\"count.txt\",\"r\")\n"
   ]
  },
  {
   "cell_type": "code",
   "execution_count": 167,
   "id": "6139ca34",
   "metadata": {},
   "outputs": [
    {
     "name": "stdout",
     "output_type": "stream",
     "text": [
      "['hello python \\n', 'hi python\\n', 'python data science\\n', 'data dataanalytics\\n']\n"
     ]
    }
   ],
   "source": [
    "l=f.readlines()\n",
    "print(l)"
   ]
  },
  {
   "cell_type": "code",
   "execution_count": 169,
   "id": "ce334b69",
   "metadata": {},
   "outputs": [
    {
     "name": "stdout",
     "output_type": "stream",
     "text": [
      "['hello python ', 'hi python', 'python data science', 'data dataanalytics']\n"
     ]
    }
   ],
   "source": [
    "l1=[]\n",
    "for i in l:\n",
    "    i=i.replace(\"\\n\",\"\")\n",
    "    l1.append(i)\n",
    "print(l1)"
   ]
  },
  {
   "cell_type": "code",
   "execution_count": 171,
   "id": "c2aeaeb3",
   "metadata": {},
   "outputs": [
    {
     "data": {
      "text/plain": [
       "[['hello', 'python', ''],\n",
       " ['hi', 'python'],\n",
       " ['python', 'data', 'science'],\n",
       " ['data', 'dataanalytics']]"
      ]
     },
     "execution_count": 171,
     "metadata": {},
     "output_type": "execute_result"
    }
   ],
   "source": [
    "word=[]\n",
    "main=[]\n",
    "for i in l1:\n",
    "    word=i.split(\" \")\n",
    "    main.append(word)\n",
    "main\n",
    "    \n",
    "    \n",
    "    \n",
    "    "
   ]
  },
  {
   "cell_type": "code",
   "execution_count": 174,
   "id": "37183f4e",
   "metadata": {},
   "outputs": [
    {
     "name": "stdout",
     "output_type": "stream",
     "text": [
      "['hello', 'python', '', 'hi', 'python', 'python', 'data', 'science', 'data', 'dataanalytics']\n"
     ]
    },
    {
     "data": {
      "text/plain": [
       "Counter({'hello': 1,\n",
       "         'python': 3,\n",
       "         '': 1,\n",
       "         'hi': 1,\n",
       "         'data': 2,\n",
       "         'science': 1,\n",
       "         'dataanalytics': 1})"
      ]
     },
     "execution_count": 174,
     "metadata": {},
     "output_type": "execute_result"
    }
   ],
   "source": [
    "mainword=[]\n",
    "for i in main:\n",
    "    for j in i:\n",
    "        mainword.append(j)\n",
    "print(mainword)\n",
    "from collections import Counter\n",
    "Counter(mainword)\n",
    "        \n",
    "        \n",
    "    "
   ]
  },
  {
   "cell_type": "code",
   "execution_count": 177,
   "id": "38e81355",
   "metadata": {},
   "outputs": [
    {
     "name": "stdout",
     "output_type": "stream",
     "text": [
      "<class 'str'>\n",
      "['hello', 'python', '\\nhi', 'python\\npython', 'data', 'science\\ndata', 'dataanalytics\\n']\n"
     ]
    },
    {
     "data": {
      "text/plain": [
       "['hello',\n",
       " 'python',\n",
       " 'hi',\n",
       " 'pythonpython',\n",
       " 'data',\n",
       " 'sciencedata',\n",
       " 'dataanalytics']"
      ]
     },
     "execution_count": 177,
     "metadata": {},
     "output_type": "execute_result"
    }
   ],
   "source": [
    "f=open(\"count.txt\")\n",
    "s=f.read()\n",
    "print(type(s))\n",
    "l=s.split(\" \")\n",
    "print(l)\n",
    "l1=[]\n",
    "for i in l:\n",
    "    i=i.replace(\"\\n\",\"\")\n",
    "    l1.append(i)\n",
    "l1\n",
    "\n",
    "    "
   ]
  },
  {
   "cell_type": "code",
   "execution_count": 109,
   "id": "0f9abd1b",
   "metadata": {},
   "outputs": [
    {
     "name": "stdout",
     "output_type": "stream",
     "text": [
      "['this balmeet \\n', 'this is balpreet \\n', 'this is priya']\n",
      "this balmeet \n",
      "\n",
      "this is balpreet \n",
      "\n",
      "this is priya\n",
      "['this balmeet ', 'this is balpreet ', 'this is priya']\n",
      "[['this', 'balmeet', ''], ['this', 'is', 'balpreet', ''], ['this', 'is', 'priya']]\n",
      "['this', 'balmeet', '', 'this', 'is', 'balpreet', '', 'this', 'is', 'priya']\n",
      "3\n",
      "1\n",
      "2\n",
      "3\n",
      "2\n",
      "1\n",
      "2\n",
      "3\n",
      "2\n",
      "1\n"
     ]
    }
   ],
   "source": [
    "l1=[]\n",
    "p1=[]\n",
    "print(a)\n",
    "final=[]\n",
    "for i in a:\n",
    "    print(i)\n",
    "    a1=i.replace(\"\\n\",\"\")\n",
    "    l1.append(a1)\n",
    "print(l1)\n",
    "for k in l1:\n",
    "    k1=k.split(\" \")\n",
    "    p1.append(k1)\n",
    "print(p1)\n",
    "for i in p1:\n",
    "    for j in i:\n",
    "        final.append(j)\n",
    "print(final)\n",
    "for k in final:\n",
    "    print(final.count(k))\n",
    "\n",
    "    \n",
    "\n",
    "    "
   ]
  },
  {
   "cell_type": "code",
   "execution_count": 110,
   "id": "e784aea7",
   "metadata": {},
   "outputs": [
    {
     "name": "stdout",
     "output_type": "stream",
     "text": [
      "['this', 'balmeet', '', 'this', 'is', 'balpreet', '', 'this', 'is', 'priya']\n",
      "Counter({'this': 3, '': 2, 'is': 2, 'balmeet': 1, 'balpreet': 1, 'priya': 1})\n"
     ]
    }
   ],
   "source": [
    "from collections import Counter\n",
    "print(final)\n",
    "print(Counter(final))\n",
    "    "
   ]
  },
  {
   "cell_type": "code",
   "execution_count": 110,
   "id": "15767886",
   "metadata": {},
   "outputs": [
    {
     "name": "stdout",
     "output_type": "stream",
     "text": [
      "enter the first namemeet\n",
      "enter the last namekaur\n",
      "enter the phone number 8976442992\n",
      "enter the first namepreet\n",
      "enter the last namearora\n",
      "enter the phone number 8765444199\n",
      "enter the first namebalmeet\n",
      "enter the last namelambda\n",
      "enter the phone number 8765430954\n",
      "enter the first namebalpreet\n",
      "enter the last namesingh\n",
      "enter the phone number 97543289\n"
     ]
    }
   ],
   "source": [
    "f=open(\"data1.txt\",\"w\")\n",
    "f.write(\"first'name,last'name,phonenmber\")\n",
    "f.write(\"\\n\")\n",
    "for i in range(1,5):\n",
    "    f.write(input(\"enter the first name\"))\n",
    "    f.write(input(\"enter the last name\"))\n",
    "    f.write(input(\"enter the phone number \"))\n",
    "f.close()\n"
   ]
  },
  {
   "cell_type": "code",
   "execution_count": 112,
   "id": "fdf6bf17",
   "metadata": {},
   "outputs": [
    {
     "name": "stdout",
     "output_type": "stream",
     "text": [
      "enter the first namebalmeet\n",
      "enter the last namekaur\n",
      "enter the phone number 987625255262\n",
      "enter the first namemeet\n",
      "enter the last namekaur\n",
      "enter the phone number 776326632727\n",
      "enter the first nameavi\n",
      "enter the last namelambda\n",
      "enter the phone number 88873700\n",
      "enter the first namekawal\n",
      "enter the last namekaur\n",
      "enter the phone number 773783882398239\n"
     ]
    }
   ],
   "source": [
    "f=open(\"data111.txt\",\"w\")\n",
    "f.write(\"first'name,last'name,phonenmber\")\n",
    "f.write(\"\\n\")\n",
    "for i in range(1,5):\n",
    "    f.write(input(\"enter the first name\"))\n",
    "    f.write(\",\")\n",
    "    f.write(input(\"enter the last name\"))\n",
    "    f.write(\",\")\n",
    "    f.write(input(\"enter the phone number \"))\n",
    "    f.write(\"\\n\")\n",
    "f.close()"
   ]
  },
  {
   "cell_type": "code",
   "execution_count": 113,
   "id": "7e492b45",
   "metadata": {},
   "outputs": [
    {
     "data": {
      "text/html": [
       "<div>\n",
       "<style scoped>\n",
       "    .dataframe tbody tr th:only-of-type {\n",
       "        vertical-align: middle;\n",
       "    }\n",
       "\n",
       "    .dataframe tbody tr th {\n",
       "        vertical-align: top;\n",
       "    }\n",
       "\n",
       "    .dataframe thead th {\n",
       "        text-align: right;\n",
       "    }\n",
       "</style>\n",
       "<table border=\"1\" class=\"dataframe\">\n",
       "  <thead>\n",
       "    <tr style=\"text-align: right;\">\n",
       "      <th></th>\n",
       "      <th>first'name</th>\n",
       "      <th>last'name</th>\n",
       "      <th>phonenmber</th>\n",
       "    </tr>\n",
       "  </thead>\n",
       "  <tbody>\n",
       "    <tr>\n",
       "      <th>0</th>\n",
       "      <td>balmeet</td>\n",
       "      <td>kaur</td>\n",
       "      <td>987625255262</td>\n",
       "    </tr>\n",
       "    <tr>\n",
       "      <th>1</th>\n",
       "      <td>meet</td>\n",
       "      <td>kaur</td>\n",
       "      <td>776326632727</td>\n",
       "    </tr>\n",
       "    <tr>\n",
       "      <th>2</th>\n",
       "      <td>avi</td>\n",
       "      <td>lambda</td>\n",
       "      <td>88873700</td>\n",
       "    </tr>\n",
       "    <tr>\n",
       "      <th>3</th>\n",
       "      <td>kawal</td>\n",
       "      <td>kaur</td>\n",
       "      <td>773783882398239</td>\n",
       "    </tr>\n",
       "  </tbody>\n",
       "</table>\n",
       "</div>"
      ],
      "text/plain": [
       "  first'name last'name       phonenmber\n",
       "0    balmeet      kaur     987625255262\n",
       "1       meet      kaur     776326632727\n",
       "2        avi    lambda         88873700\n",
       "3      kawal      kaur  773783882398239"
      ]
     },
     "execution_count": 113,
     "metadata": {},
     "output_type": "execute_result"
    }
   ],
   "source": [
    "import pandas as pd\n",
    "df=pd.read_csv(\"data111.txt\",sep=\",\")\n",
    "df"
   ]
  },
  {
   "cell_type": "code",
   "execution_count": 117,
   "id": "84f1a721",
   "metadata": {},
   "outputs": [
    {
     "data": {
      "text/plain": [
       "0    balmeet\n",
       "1       meet\n",
       "2        avi\n",
       "3      kawal\n",
       "Name: first'name, dtype: object"
      ]
     },
     "execution_count": 117,
     "metadata": {},
     "output_type": "execute_result"
    }
   ],
   "source": [
    "df[\"first'name\"]"
   ]
  },
  {
   "cell_type": "markdown",
   "id": "e7521e8a",
   "metadata": {},
   "source": [
    "## wap to add food items in the file if that items is not presnt in the file "
   ]
  },
  {
   "cell_type": "code",
   "execution_count": 134,
   "id": "94e6e946",
   "metadata": {},
   "outputs": [
    {
     "data": {
      "text/plain": [
       "<_io.TextIOWrapper name='food.txt' mode='r' encoding='cp1252'>"
      ]
     },
     "execution_count": 134,
     "metadata": {},
     "output_type": "execute_result"
    }
   ],
   "source": [
    "f=open(\"food.txt\")\n",
    "f"
   ]
  },
  {
   "cell_type": "code",
   "execution_count": 135,
   "id": "7d9efe9e",
   "metadata": {},
   "outputs": [
    {
     "data": {
      "text/plain": [
       "'pizza\\nsweet corn\\nsandwitch\\npakore\\nbaby corn\\n'"
      ]
     },
     "execution_count": 135,
     "metadata": {},
     "output_type": "execute_result"
    }
   ],
   "source": [
    "f.read()"
   ]
  },
  {
   "cell_type": "code",
   "execution_count": 161,
   "id": "c7efa159",
   "metadata": {},
   "outputs": [
    {
     "name": "stdout",
     "output_type": "stream",
     "text": [
      "enter the food itempizza\n",
      "['pizza\\n', 'sweet corn\\n', 'sandwitch\\n', 'pakore\\n', 'baby corn\\n', 'pizza\\n', 'pizza\\\\n\\n', 'sweet corn\\n', 'cake\\n', 'tea\\n', 'pizza\\n', 'masala chai\\n', 'paneer roll\\n']\n",
      "['pizza', 'sweet corn', 'sandwitch', 'pakore', 'baby corn', 'pizza', 'pizza', 'sweet corn', 'cake', 'tea', 'pizza', 'masala chai', 'paneer roll']\n",
      "this item is already present\n"
     ]
    }
   ],
   "source": [
    "food1=input(\"enter the food item\")\n",
    "f=open(\"food.txt\",\"r+\")\n",
    "food_items1=[]\n",
    "food_items11=[]\n",
    "food_items=f.readlines()\n",
    "print(food_items)\n",
    "for k in food_items:\n",
    "    k1=k.replace(\"\\n\",\"\")\n",
    "    food_items1.append(k1)\n",
    "for k1 in food_items1:\n",
    "    food_items11.append(k1.replace(\"\\\\n\",\"\"))\n",
    "print(food_items11)\n",
    "    \n",
    "#print(food_items1)\n",
    "if food1 in food_items11:\n",
    "    print(\"this item is already present\")\n",
    "else:\n",
    "    f.write(food1)\n",
    "    f.write(\"\\n\")\n",
    "    f.close()\n",
    "    "
   ]
  },
  {
   "cell_type": "code",
   "execution_count": 160,
   "id": "c23df92c",
   "metadata": {},
   "outputs": [
    {
     "data": {
      "text/plain": [
       "'pizza\\nsweet corn\\nsandwitch\\npakore\\nbaby corn\\npizza\\npizza\\\\n\\nsweet corn\\ncake\\ntea\\npizza\\nmasala chai\\npaneer roll\\n'"
      ]
     },
     "execution_count": 160,
     "metadata": {},
     "output_type": "execute_result"
    }
   ],
   "source": [
    "f=open(\"food.txt\",\"r+\")\n",
    "f.read()"
   ]
  },
  {
   "cell_type": "code",
   "execution_count": null,
   "id": "a737f981",
   "metadata": {},
   "outputs": [],
   "source": []
  }
 ],
 "metadata": {
  "kernelspec": {
   "display_name": "Python 3 (ipykernel)",
   "language": "python",
   "name": "python3"
  },
  "language_info": {
   "codemirror_mode": {
    "name": "ipython",
    "version": 3
   },
   "file_extension": ".py",
   "mimetype": "text/x-python",
   "name": "python",
   "nbconvert_exporter": "python",
   "pygments_lexer": "ipython3",
   "version": "3.9.7"
  }
 },
 "nbformat": 4,
 "nbformat_minor": 5
}
